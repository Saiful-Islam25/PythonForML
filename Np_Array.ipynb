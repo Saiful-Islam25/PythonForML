{
 "cells": [
  {
   "cell_type": "code",
   "execution_count": 2,
   "id": "f9b2dbb3",
   "metadata": {},
   "outputs": [
    {
     "name": "stdout",
     "output_type": "stream",
     "text": [
      "[1 2 3 4 5]\n"
     ]
    }
   ],
   "source": [
    "import numpy as np\n",
    "a=[1,2,3,4,5]\n",
    "b=np.array(a)\n",
    "print(b)"
   ]
  },
  {
   "cell_type": "code",
   "execution_count": 16,
   "id": "a09ebc41",
   "metadata": {},
   "outputs": [
    {
     "name": "stdout",
     "output_type": "stream",
     "text": [
      "Enter your number : 7\n",
      "Enter your number : 7\n",
      "Enter your number : 8\n",
      "Enter your number : 8\n",
      "Enter your number : 8\n",
      "Enter your number : 8\n",
      "Enter your number : 8\n",
      "Enter your number : 9\n",
      "Enter your number : 9\n",
      "[7 7 8 8 8 8 8 9 9]\n"
     ]
    }
   ],
   "source": [
    "l=[]\n",
    "for i in range(1,10):\n",
    "   int_l=int(input(\"Enter your number : \"))\n",
    "   l.append(int_l)\n",
    "\n",
    "print(np.array(l))"
   ]
  },
  {
   "cell_type": "code",
   "execution_count": 19,
   "id": "1c134377",
   "metadata": {},
   "outputs": [
    {
     "name": "stdout",
     "output_type": "stream",
     "text": [
      "[[1 2 3 4 5]\n",
      " [1 2 3 7 8]]\n",
      "2\n"
     ]
    }
   ],
   "source": [
    "ar2=np.array([[1,2,3,4,5],[1,2,3,7,8]])\n",
    "print(ar)\n",
    "print(ar.ndim)"
   ]
  },
  {
   "cell_type": "code",
   "execution_count": 21,
   "id": "6386cd4d",
   "metadata": {},
   "outputs": [
    {
     "name": "stdout",
     "output_type": "stream",
     "text": [
      "[[[ 1  2  3  4  5]\n",
      "  [ 3  4  5  8  1]\n",
      "  [ 1  8  5 43  3]]]\n",
      "3\n"
     ]
    }
   ],
   "source": [
    "a3=np.array([[[1,2,3,4,5],[3,4,5,8,1],[1,8,5,43,3]]])\n",
    "print(a3)\n",
    "print(a3.ndim)"
   ]
  },
  {
   "cell_type": "code",
   "execution_count": 1,
   "id": "a785af62",
   "metadata": {},
   "outputs": [
    {
     "name": "stdout",
     "output_type": "stream",
     "text": [
      "Enter your number : 3\n",
      "Enter your number : 5\n",
      "Enter your number : 6\n",
      "Enter your number : 4\n",
      "Enter your number : 5\n",
      "Enter your number : 6\n",
      "Enter your number : 6\n",
      "Enter your number : 6\n",
      "Enter your number : 6\n"
     ]
    },
    {
     "ename": "NameError",
     "evalue": "name 'np' is not defined",
     "output_type": "error",
     "traceback": [
      "\u001b[1;31m---------------------------------------------------------------------------\u001b[0m",
      "\u001b[1;31mNameError\u001b[0m                                 Traceback (most recent call last)",
      "Cell \u001b[1;32mIn[1], line 5\u001b[0m\n\u001b[0;32m      3\u001b[0m    int_l\u001b[38;5;241m=\u001b[39m\u001b[38;5;28mint\u001b[39m(\u001b[38;5;28minput\u001b[39m(\u001b[38;5;124m\"\u001b[39m\u001b[38;5;124mEnter your number : \u001b[39m\u001b[38;5;124m\"\u001b[39m))\n\u001b[0;32m      4\u001b[0m    l\u001b[38;5;241m.\u001b[39mappend(int_l)\n\u001b[1;32m----> 5\u001b[0m a\u001b[38;5;241m=\u001b[39mnp\u001b[38;5;241m.\u001b[39marray(l)\n\u001b[0;32m      6\u001b[0m \u001b[38;5;28mprint\u001b[39m(a)\n",
      "\u001b[1;31mNameError\u001b[0m: name 'np' is not defined"
     ]
    }
   ],
   "source": [
    "l=[]\n",
    "for i in range(1,10):\n",
    "   int_l=int(input(\"Enter your number : \"))\n",
    "   l.append(int_l)\n",
    "a=np.array(l)\n",
    "print(a)"
   ]
  },
  {
   "cell_type": "code",
   "execution_count": null,
   "id": "1414a205",
   "metadata": {},
   "outputs": [],
   "source": []
  }
 ],
 "metadata": {
  "kernelspec": {
   "display_name": "Python 3 (ipykernel)",
   "language": "python",
   "name": "python3"
  },
  "language_info": {
   "codemirror_mode": {
    "name": "ipython",
    "version": 3
   },
   "file_extension": ".py",
   "mimetype": "text/x-python",
   "name": "python",
   "nbconvert_exporter": "python",
   "pygments_lexer": "ipython3",
   "version": "3.11.4"
  }
 },
 "nbformat": 4,
 "nbformat_minor": 5
}
