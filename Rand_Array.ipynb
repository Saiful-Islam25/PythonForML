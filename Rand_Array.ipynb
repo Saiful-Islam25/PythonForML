{
 "cells": [
  {
   "cell_type": "markdown",
   "id": "7ad7d6ee",
   "metadata": {},
   "source": [
    "# rand()"
   ]
  },
  {
   "cell_type": "code",
   "execution_count": 4,
   "id": "3c7f7f48",
   "metadata": {},
   "outputs": [
    {
     "name": "stdout",
     "output_type": "stream",
     "text": [
      "[7.96360716e-01 4.05702607e-02 6.95783480e-01 2.09608107e-01\n",
      " 7.76424618e-04]\n"
     ]
    }
   ],
   "source": [
    "import numpy as np\n",
    "var=np.random.rand(5)\n",
    "\n",
    "print(var)"
   ]
  },
  {
   "cell_type": "code",
   "execution_count": 5,
   "id": "957d2aa2",
   "metadata": {},
   "outputs": [
    {
     "name": "stdout",
     "output_type": "stream",
     "text": [
      "[[0.16792666 0.08291683 0.1009234  0.24243476 0.18632114 0.07658786]\n",
      " [0.29904145 0.29293524 0.65515597 0.32190329 0.65368243 0.00878903]\n",
      " [0.22398928 0.52030968 0.70941916 0.2397521  0.83579213 0.76576792]]\n"
     ]
    }
   ],
   "source": [
    "var1=np.random.rand(3,6)\n",
    "\n",
    "print(var1)"
   ]
  },
  {
   "cell_type": "markdown",
   "id": "b38ae619",
   "metadata": {},
   "source": [
    "# randn()"
   ]
  },
  {
   "cell_type": "code",
   "execution_count": 6,
   "id": "510d63b5",
   "metadata": {},
   "outputs": [
    {
     "name": "stdout",
     "output_type": "stream",
     "text": [
      "[-0.43254825 -0.53035052 -1.13145515  0.23337422 -1.71866069 -0.05033576]\n"
     ]
    }
   ],
   "source": [
    "var2=np.random.randn(6)\n",
    "\n",
    "print(var2)"
   ]
  },
  {
   "cell_type": "markdown",
   "id": "5f852962",
   "metadata": {},
   "source": [
    "# ranf()"
   ]
  },
  {
   "cell_type": "code",
   "execution_count": 7,
   "id": "493df6ea",
   "metadata": {},
   "outputs": [
    {
     "name": "stdout",
     "output_type": "stream",
     "text": [
      "[0.83435896 0.81821458 0.38689868 0.10924672 0.96820575]\n"
     ]
    }
   ],
   "source": [
    "var3=np.random.ranf(5)\n",
    "\n",
    "print(var3)"
   ]
  },
  {
   "cell_type": "markdown",
   "id": "8b0d763d",
   "metadata": {},
   "source": [
    "# randint()"
   ]
  },
  {
   "cell_type": "code",
   "execution_count": 8,
   "id": "1fbc5998",
   "metadata": {},
   "outputs": [
    {
     "name": "stdout",
     "output_type": "stream",
     "text": [
      "[13  8  7 14  8]\n"
     ]
    }
   ],
   "source": [
    "var4=np.random.randint(5,20,5)\n",
    "\n",
    "print(var4)"
   ]
  },
  {
   "cell_type": "code",
   "execution_count": null,
   "id": "45d2ebb6",
   "metadata": {},
   "outputs": [],
   "source": []
  }
 ],
 "metadata": {
  "kernelspec": {
   "display_name": "Python 3 (ipykernel)",
   "language": "python",
   "name": "python3"
  },
  "language_info": {
   "codemirror_mode": {
    "name": "ipython",
    "version": 3
   },
   "file_extension": ".py",
   "mimetype": "text/x-python",
   "name": "python",
   "nbconvert_exporter": "python",
   "pygments_lexer": "ipython3",
   "version": "3.11.4"
  }
 },
 "nbformat": 4,
 "nbformat_minor": 5
}
