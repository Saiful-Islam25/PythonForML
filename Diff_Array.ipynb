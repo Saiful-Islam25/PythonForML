{
 "cells": [
  {
   "cell_type": "markdown",
   "id": "b7399cd6",
   "metadata": {},
   "source": [
    "# zero()"
   ]
  },
  {
   "cell_type": "code",
   "execution_count": 1,
   "id": "409065db",
   "metadata": {},
   "outputs": [
    {
     "name": "stdout",
     "output_type": "stream",
     "text": [
      "[0. 0. 0. 0. 0. 0.]\n",
      "\n",
      "[[0. 0. 0. 0. 0.]\n",
      " [0. 0. 0. 0. 0.]\n",
      " [0. 0. 0. 0. 0.]\n",
      " [0. 0. 0. 0. 0.]]\n"
     ]
    }
   ],
   "source": [
    "import numpy as np\n",
    "a_zero=np.zeros(6)\n",
    "a_zero1=np.zeros((4,5))\n",
    "\n",
    "print(a_zero)\n",
    "print()\n",
    "print(a_zero1)"
   ]
  },
  {
   "cell_type": "markdown",
   "id": "367b6688",
   "metadata": {},
   "source": [
    "# One()"
   ]
  },
  {
   "cell_type": "code",
   "execution_count": 3,
   "id": "a25a0264",
   "metadata": {},
   "outputs": [
    {
     "name": "stdout",
     "output_type": "stream",
     "text": [
      "[1. 1. 1. 1. 1. 1. 1.]\n"
     ]
    }
   ],
   "source": [
    "a_one=np.ones(7)\n",
    "\n",
    "print(a_one)"
   ]
  },
  {
   "cell_type": "markdown",
   "id": "4ad4b9ac",
   "metadata": {},
   "source": [
    "# range()"
   ]
  },
  {
   "cell_type": "code",
   "execution_count": 4,
   "id": "a29bab66",
   "metadata": {},
   "outputs": [
    {
     "name": "stdout",
     "output_type": "stream",
     "text": [
      "[0 1 2 3 4 5 6 7 8]\n"
     ]
    }
   ],
   "source": [
    "a_rm=np.arange(9)\n",
    "\n",
    "print(a_rm)"
   ]
  },
  {
   "cell_type": "markdown",
   "id": "08233733",
   "metadata": {},
   "source": [
    "# diagonal()"
   ]
  },
  {
   "cell_type": "code",
   "execution_count": 5,
   "id": "320d63f9",
   "metadata": {},
   "outputs": [
    {
     "name": "stdout",
     "output_type": "stream",
     "text": [
      "[[1. 0. 0. 0. 0. 0.]\n",
      " [0. 1. 0. 0. 0. 0.]\n",
      " [0. 0. 1. 0. 0. 0.]\n",
      " [0. 0. 0. 1. 0. 0.]\n",
      " [0. 0. 0. 0. 1. 0.]\n",
      " [0. 0. 0. 0. 0. 1.]]\n"
     ]
    }
   ],
   "source": [
    "a_dig=np.eye(6)\n",
    "\n",
    "print(a_dig)"
   ]
  },
  {
   "cell_type": "markdown",
   "id": "df0655e4",
   "metadata": {},
   "source": [
    "# linespace()"
   ]
  },
  {
   "cell_type": "code",
   "execution_count": 9,
   "id": "185c63ba",
   "metadata": {},
   "outputs": [
    {
     "name": "stdout",
     "output_type": "stream",
     "text": [
      "[ 0.          5.55555556 11.11111111 16.66666667 22.22222222 27.77777778\n",
      " 33.33333333 38.88888889 44.44444444 50.        ]\n"
     ]
    }
   ],
   "source": [
    "a_lin=np.linspace(0,50,num=10)\n",
    "\n",
    "print(a_lin)"
   ]
  },
  {
   "cell_type": "code",
   "execution_count": null,
   "id": "565a23e4",
   "metadata": {},
   "outputs": [],
   "source": []
  }
 ],
 "metadata": {
  "kernelspec": {
   "display_name": "Python 3 (ipykernel)",
   "language": "python",
   "name": "python3"
  },
  "language_info": {
   "codemirror_mode": {
    "name": "ipython",
    "version": 3
   },
   "file_extension": ".py",
   "mimetype": "text/x-python",
   "name": "python",
   "nbconvert_exporter": "python",
   "pygments_lexer": "ipython3",
   "version": "3.11.4"
  }
 },
 "nbformat": 4,
 "nbformat_minor": 5
}
