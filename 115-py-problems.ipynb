{
 "cells": [
  {
   "cell_type": "markdown",
   "metadata": {},
   "source": [
    "### 1 . Variable Swap: Write a Python program to swap the values of two variables without using a temporary variable."
   ]
  },
  {
   "cell_type": "code",
   "execution_count": 22,
   "metadata": {},
   "outputs": [],
   "source": [
    "def swapWithoutTemp(a,b):\n",
    "    a = a + b\n",
    "    b = a - b\n",
    "    a = a - b\n",
    "    return a,b"
   ]
  },
  {
   "cell_type": "code",
   "execution_count": 23,
   "metadata": {},
   "outputs": [
    {
     "name": "stdout",
     "output_type": "stream",
     "text": [
      "Before Swap: a = 10 and b = 20\n",
      "After Swap: a = 20 and b = 10\n"
     ]
    }
   ],
   "source": [
    "a = 10\n",
    "b = 20\n",
    "print(\"Before Swap: a = {} and b = {}\".format(a,b))\n",
    "a,b = swapWithoutTemp(a,b)\n",
    "print(\"After Swap: a = {} and b = {}\".format(a,b))"
   ]
  },
  {
   "cell_type": "markdown",
   "metadata": {},
   "source": [
    "### 2. Even or Odd: Write a Python program that takes an integer as input and prints whether it is even or odd."
   ]
  },
  {
   "cell_type": "code",
   "execution_count": 24,
   "metadata": {},
   "outputs": [],
   "source": [
    "def evenOdd(n):\n",
    "    if n & 1: # bitwise AND operation with 1, because odd numbers have 1 as the least significant bit\n",
    "        return \"Odd\"\n",
    "    else:\n",
    "        return \"Even\""
   ]
  },
  {
   "cell_type": "code",
   "execution_count": 25,
   "metadata": {},
   "outputs": [
    {
     "name": "stdout",
     "output_type": "stream",
     "text": [
      "Even\n",
      "Odd\n"
     ]
    }
   ],
   "source": [
    "print(evenOdd(10))\n",
    "print(evenOdd(11))"
   ]
  },
  {
   "cell_type": "markdown",
   "metadata": {},
   "source": [
    "### 3. String Reverse: Write a Python function to reverse a given string and return the reversed string."
   ]
  },
  {
   "cell_type": "code",
   "execution_count": 26,
   "metadata": {},
   "outputs": [],
   "source": [
    "def reverse(input):\n",
    "   input = list(input)\n",
    "   left = 0\n",
    "   right = len(input) - 1\n",
    "   while left < right:\n",
    "         input[left], input[right] = input[right], input[left] # swap\n",
    "         left += 1\n",
    "         right -= 1\n",
    "   return ''.join(input)"
   ]
  },
  {
   "cell_type": "code",
   "execution_count": 27,
   "metadata": {},
   "outputs": [
    {
     "name": "stdout",
     "output_type": "stream",
     "text": [
      "olleH\n"
     ]
    }
   ],
   "source": [
    "print(reverse(\"Hello\"))"
   ]
  },
  {
   "cell_type": "markdown",
   "metadata": {},
   "source": [
    "### 4. Type Conversion: Given a list of integers, write a Python program to convert each element of the list to a string."
   ]
  },
  {
   "cell_type": "code",
   "execution_count": 28,
   "metadata": {},
   "outputs": [],
   "source": [
    "def convertListToString(input):\n",
    "    for i in range(len(input)):\n",
    "        input[i] = str(input[i])\n",
    "    return input"
   ]
  },
  {
   "cell_type": "code",
   "execution_count": 29,
   "metadata": {},
   "outputs": [
    {
     "name": "stdout",
     "output_type": "stream",
     "text": [
      "['1', '2', '3', '4', '5']\n"
     ]
    }
   ],
   "source": [
    "print(convertListToString([1,2,3,4,5]))"
   ]
  },
  {
   "cell_type": "markdown",
   "metadata": {},
   "source": [
    "### 5. Temperature Converter: Write a Python program that converts a temperature in Celsius to Fahrenheit. Take the Celsius temperature as input from the user."
   ]
  },
  {
   "cell_type": "code",
   "execution_count": 30,
   "metadata": {},
   "outputs": [],
   "source": [
    "def celciusToFahrenheit(celcius):\n",
    "    return (celcius * 9/5) + 32"
   ]
  },
  {
   "cell_type": "code",
   "execution_count": 31,
   "metadata": {},
   "outputs": [
    {
     "name": "stdout",
     "output_type": "stream",
     "text": [
      "91.4\n"
     ]
    }
   ],
   "source": [
    "print(celciusToFahrenheit(33))"
   ]
  },
  {
   "cell_type": "markdown",
   "metadata": {},
   "source": [
    "### 6. Data Type Checker: Write a Python function that takes a variable as input and returns the data type of the variable as a string (e.g., “int”, “float”, “str”, “list”, etc.)."
   ]
  },
  {
   "cell_type": "code",
   "execution_count": 32,
   "metadata": {},
   "outputs": [],
   "source": [
    "def dataTypeTeller(input):\n",
    "    return type(input)"
   ]
  },
  {
   "cell_type": "code",
   "execution_count": 33,
   "metadata": {},
   "outputs": [
    {
     "name": "stdout",
     "output_type": "stream",
     "text": [
      "<class 'int'>\n",
      "<class 'str'>\n",
      "<class 'float'>\n",
      "<class 'list'>\n"
     ]
    }
   ],
   "source": [
    "print(dataTypeTeller(10))\n",
    "print(dataTypeTeller(\"Hello\"))\n",
    "print(dataTypeTeller(10.0))\n",
    "print(dataTypeTeller([1,2,3,4,5]))"
   ]
  },
  {
   "cell_type": "markdown",
   "metadata": {},
   "source": [
    "### 7. String Palindrome: Write a Python function to check if a given string is a palindrome or not."
   ]
  },
  {
   "cell_type": "code",
   "execution_count": 34,
   "metadata": {},
   "outputs": [],
   "source": [
    "def isPalindrome(input):\n",
    "    return input == reverse(input)  # reverse function is defined above [problem 3]"
   ]
  },
  {
   "cell_type": "code",
   "execution_count": 35,
   "metadata": {},
   "outputs": [
    {
     "name": "stdout",
     "output_type": "stream",
     "text": [
      "True\n",
      "False\n"
     ]
    }
   ],
   "source": [
    "print(isPalindrome(\"madam\"))\n",
    "print(isPalindrome(\"hello\"))"
   ]
  },
  {
   "cell_type": "markdown",
   "metadata": {},
   "source": [
    "### 8. String Reversal with Slicing: Write a Python function to reverse a given string using slicing.\n"
   ]
  },
  {
   "cell_type": "code",
   "execution_count": 36,
   "metadata": {},
   "outputs": [],
   "source": [
    "def reverseSliced(input):\n",
    "    return input[::-1]"
   ]
  },
  {
   "cell_type": "code",
   "execution_count": 37,
   "metadata": {},
   "outputs": [
    {
     "name": "stdout",
     "output_type": "stream",
     "text": [
      "olleH\n"
     ]
    }
   ],
   "source": [
    "print(reverseSliced(\"Hello\"))"
   ]
  },
  {
   "cell_type": "markdown",
   "metadata": {},
   "source": [
    "### 9. String Concatenation: Write a Python program that takes two strings as input and concatenates them into a single string without using the `+` operator."
   ]
  },
  {
   "cell_type": "code",
   "execution_count": 38,
   "metadata": {},
   "outputs": [],
   "source": [
    "def concatenator(input1, input2):\n",
    "   return \"{}{}\".format(input1, input2)"
   ]
  },
  {
   "cell_type": "code",
   "execution_count": 39,
   "metadata": {},
   "outputs": [
    {
     "name": "stdout",
     "output_type": "stream",
     "text": [
      "world Hello\n"
     ]
    }
   ],
   "source": [
    "print(concatenator(\"world \",\"Hello\"))"
   ]
  },
  {
   "cell_type": "markdown",
   "metadata": {},
   "source": [
    "### 10. Typecasting Challenge: Given three variables: `a = ‘100’`, `b = 25`, and `c = ‘10.5’`, write a Python program to perform the following operations and print the results: – Convert `a` to an integer and add it to `b`. – Convert `c` to a float and subtract it from the result of the first operation. – Convert the final result to a string and concatenate it with the string ” is the answer.”"
   ]
  },
  {
   "cell_type": "code",
   "execution_count": 40,
   "metadata": {},
   "outputs": [],
   "source": [
    "def makeInt(input):\n",
    "    return int(input)\n",
    "def makeFloat(input):\n",
    "    return float(input)\n",
    "def makeString(input):\n",
    "    return str(input)"
   ]
  },
  {
   "cell_type": "code",
   "execution_count": 41,
   "metadata": {},
   "outputs": [
    {
     "name": "stdout",
     "output_type": "stream",
     "text": [
      "114.5\n",
      "<class 'str'>\n"
     ]
    }
   ],
   "source": [
    "a = '100' # make this an integer\n",
    "b = 25    \n",
    "c = '10.5' # make this a float\n",
    "\n",
    "a = makeInt(a)\n",
    "c = makeFloat(c)\n",
    "\n",
    "res = (a + b) - c\n",
    "res = makeString(res)\n",
    "\n",
    "print(res)\n",
    "print(type(res))\n",
    "\n"
   ]
  },
  {
   "cell_type": "markdown",
   "metadata": {},
   "source": [
    "### 11. Positive, Negative, or Zero: Write a Python program that takes a number as input and prints whether it is positive, negative, or zero."
   ]
  },
  {
   "cell_type": "code",
   "execution_count": 42,
   "metadata": {},
   "outputs": [],
   "source": [
    "def statusChecker(input):\n",
    "    if input < 0:\n",
    "        return \"Negative\"\n",
    "    elif input == 0:\n",
    "        return \"Zero\"\n",
    "    else:\n",
    "        return \"Positive\""
   ]
  },
  {
   "cell_type": "code",
   "execution_count": 43,
   "metadata": {},
   "outputs": [
    {
     "name": "stdout",
     "output_type": "stream",
     "text": [
      "Negative\n",
      "Zero\n",
      "Positive\n"
     ]
    }
   ],
   "source": [
    "print(statusChecker(-10))\n",
    "print(statusChecker(0))\n",
    "print(statusChecker(10))"
   ]
  },
  {
   "cell_type": "markdown",
   "metadata": {},
   "source": [
    "### 12. Largest of Three Numbers: Write a Python program that takes three numbers as input and prints the largest among them."
   ]
  },
  {
   "cell_type": "code",
   "execution_count": 44,
   "metadata": {},
   "outputs": [],
   "source": [
    "def largestAmongThree(a,b,c):\n",
    "    if a > b and a > c:\n",
    "        return a\n",
    "    elif b > a and b > c:\n",
    "        return b\n",
    "    else:\n",
    "        return c"
   ]
  },
  {
   "cell_type": "code",
   "execution_count": 45,
   "metadata": {},
   "outputs": [
    {
     "name": "stdout",
     "output_type": "stream",
     "text": [
      "30\n"
     ]
    }
   ],
   "source": [
    "print(largestAmongThree(10,20,30))"
   ]
  },
  {
   "cell_type": "markdown",
   "metadata": {},
   "source": [
    "### 13. Leap Year Checker: Write a Python program that takes a year as input and determines if it is a leap year or not."
   ]
  },
  {
   "cell_type": "code",
   "execution_count": 46,
   "metadata": {},
   "outputs": [],
   "source": [
    "def leapYearCheck(year):\n",
    "    if year % 4 == 0 and year % 100 != 0 or year % 400 == 0:\n",
    "        return \"Leap Year\"\n",
    "    else:\n",
    "        return \"Not a Leap Year\""
   ]
  },
  {
   "cell_type": "code",
   "execution_count": 47,
   "metadata": {},
   "outputs": [
    {
     "name": "stdout",
     "output_type": "stream",
     "text": [
      "Leap Year\n",
      "Not a Leap Year\n"
     ]
    }
   ],
   "source": [
    "print(leapYearCheck(2020))\n",
    "print(leapYearCheck(2021))"
   ]
  },
  {
   "cell_type": "markdown",
   "metadata": {},
   "source": [
    "### 14. Grades Classification: Write a Python program that takes a student’s percentage as input and prints their corresponding grade according to the following criteria: – 90% or above: A+ – 80-89%: A – 70-79%: B – 60-69%: C – Below 60%: Fail"
   ]
  },
  {
   "cell_type": "code",
   "execution_count": 48,
   "metadata": {},
   "outputs": [],
   "source": [
    "def gradeChecker(marks):\n",
    "    if marks >=90:\n",
    "        return \"A+\"\n",
    "    elif marks >= 80:\n",
    "        return \"A\"\n",
    "    elif marks >= 70:\n",
    "        return \"B\"\n",
    "    elif marks >= 60:\n",
    "        return \"C\"\n",
    "    else:\n",
    "        return \"Fail\""
   ]
  },
  {
   "cell_type": "code",
   "execution_count": 49,
   "metadata": {},
   "outputs": [
    {
     "name": "stdout",
     "output_type": "stream",
     "text": [
      "A+\n",
      "A\n",
      "B\n",
      "C\n",
      "Fail\n",
      "Fail\n",
      "Fail\n",
      "C\n",
      "B\n",
      "A\n"
     ]
    }
   ],
   "source": [
    "print(gradeChecker(95))\n",
    "print(gradeChecker(85))\n",
    "print(gradeChecker(75))\n",
    "print(gradeChecker(65))\n",
    "print(gradeChecker(55))\n",
    "\n",
    "print(gradeChecker(0))\n",
    "print(gradeChecker(59))\n",
    "print(gradeChecker(69))\n",
    "print(gradeChecker(79))\n",
    "print(gradeChecker(89))\n"
   ]
  },
  {
   "cell_type": "markdown",
   "metadata": {},
   "source": [
    "### 15. Vowel or Consonant: Write a Python program that takes a single character as input and determines whether it is a vowel or a consonant.\n"
   ]
  },
  {
   "cell_type": "code",
   "execution_count": 50,
   "metadata": {},
   "outputs": [],
   "source": [
    "def vowelChecker(input):\n",
    "    input = input.lower()\n",
    "    if input in ['a','e','i','o','u']:\n",
    "        return \"Vowel\"\n",
    "    else:\n",
    "        return \"Consonant\""
   ]
  },
  {
   "cell_type": "code",
   "execution_count": 51,
   "metadata": {},
   "outputs": [
    {
     "name": "stdout",
     "output_type": "stream",
     "text": [
      "Vowel\n",
      "Consonant\n"
     ]
    }
   ],
   "source": [
    "print(vowelChecker('a'))\n",
    "print(vowelChecker('b'))"
   ]
  },
  {
   "cell_type": "markdown",
   "metadata": {},
   "source": [
    "### 16. Time Classification: Write a Python program that takes the time in hours (24-hour format) as input and prints “Good Morning”, “Good Afternoon”, “Good Evening”, or “Good Night” based on the time.\n",
    "\n"
   ]
  },
  {
   "cell_type": "code",
   "execution_count": 52,
   "metadata": {},
   "outputs": [],
   "source": [
    "def greeter(time):\n",
    "    if time < 12 and time >=5:\n",
    "        return \"Good Morning {}\".format(time)\n",
    "    elif time <= 16 and time >= 12:\n",
    "        return \"Good Afternoon {}\".format(time)\n",
    "    elif time <= 20 and time >= 16:\n",
    "        return \"Good Evening {}\".format(time)\n",
    "    else:\n",
    "        return \"Good Night {}\".format(time)"
   ]
  },
  {
   "cell_type": "code",
   "execution_count": 53,
   "metadata": {},
   "outputs": [
    {
     "name": "stdout",
     "output_type": "stream",
     "text": [
      "Good Morning 10\n",
      "Good Afternoon 14\n",
      "Good Evening 18\n",
      "Good Night 22\n",
      "Good Morning 5\n",
      "Good Morning 6\n",
      "Good Evening 20\n",
      "Good Afternoon 12\n",
      "Good Night 0\n",
      "Good Night 3\n"
     ]
    }
   ],
   "source": [
    "print(greeter(10))\n",
    "print(greeter(14))\n",
    "print(greeter(18))\n",
    "print(greeter(22))\n",
    "print(greeter(5))\n",
    "print(greeter(6))\n",
    "print(greeter(20))\n",
    "print(greeter(12))\n",
    "print(greeter(0))\n",
    "print(greeter(3))"
   ]
  },
  {
   "cell_type": "markdown",
   "metadata": {},
   "source": [
    "### 17. Triangle Type Checker: Write a Python program that takes three sides of a triangle as input and determines whether it forms an equilateral, isosceles, or scalene triangle."
   ]
  },
  {
   "cell_type": "code",
   "execution_count": 54,
   "metadata": {},
   "outputs": [],
   "source": [
    "def triangleType(a,b,c):\n",
    "    if a == b == c:\n",
    "        return \"Equilateral\"\n",
    "    elif a == b or b == c or a == c:\n",
    "        return \"Isosceles\"\n",
    "    else:\n",
    "        return \"Scalene\""
   ]
  },
  {
   "cell_type": "code",
   "execution_count": 55,
   "metadata": {},
   "outputs": [
    {
     "name": "stdout",
     "output_type": "stream",
     "text": [
      "Equilateral\n",
      "Isosceles\n",
      "Scalene\n"
     ]
    }
   ],
   "source": [
    "print(triangleType(10,10,10))\n",
    "print(triangleType(10,10,20))\n",
    "print(triangleType(10,20,30))"
   ]
  },
  {
   "cell_type": "markdown",
   "metadata": {},
   "source": [
    "### 18. Quadratic Equation Solver: Write a Python program that takes the coefficients (a, b, c) of a quadratic equation as input and calculates and prints the real roots (if they exist) or a message indicating the complex roots."
   ]
  },
  {
   "cell_type": "code",
   "execution_count": 56,
   "metadata": {},
   "outputs": [],
   "source": [
    "def realRoots(a,b,c):\n",
    "    # bhaskara's formula\n",
    "    d = b**2 - 4*a*c\n",
    "    if d >= 0:\n",
    "        x1 = (-b + d**0.5) / 2*a\n",
    "        x2 = (-b - d**0.5) / 2*a\n",
    "        return x1,x2\n",
    "    else:\n",
    "        return \"Complex Roots\""
   ]
  },
  {
   "cell_type": "code",
   "execution_count": 57,
   "metadata": {},
   "outputs": [
    {
     "name": "stdout",
     "output_type": "stream",
     "text": [
      "(-2.0, -3.0)\n",
      "(-1.0, -1.0)\n",
      "Complex Roots\n"
     ]
    }
   ],
   "source": [
    "print(realRoots(1,5,6)) # x^2 + 5x + 6 = 0 -> x = -2, -3\n",
    "print(realRoots(1,2,1)) # x^2 + 2x + 1 = 0 -> x = -1\n",
    "print(realRoots(1,1,1)) # x^2 + x + 1 = 0 -> complex roots"
   ]
  },
  {
   "cell_type": "markdown",
   "metadata": {},
   "source": [
    "### 19. Number Ranges: Write a Python program that takes an integer as input and prints whether the number falls within the ranges: 0-50, 51-100, 101-150, or above 150."
   ]
  },
  {
   "cell_type": "code",
   "execution_count": 58,
   "metadata": {},
   "outputs": [],
   "source": [
    "def rangeChecker(input):\n",
    "    ranges = [(0,50),(51,100),(101,150)]\n",
    "    if input >150:\n",
    "            return \"{} is above 150\".format(input)\n",
    "    for start,end in ranges:\n",
    "        if start <= input <= end:\n",
    "            return \"{} is In Range {}-{}\".format(input,start,end)\n",
    "    return \"{} is below 0\".format(input)"
   ]
  },
  {
   "cell_type": "code",
   "execution_count": 59,
   "metadata": {},
   "outputs": [
    {
     "name": "stdout",
     "output_type": "stream",
     "text": [
      "10 is In Range 0-50\n",
      "60 is In Range 51-100\n",
      "110 is In Range 101-150\n",
      "160 is above 150\n",
      "200 is above 150\n",
      "50 is In Range 0-50\n",
      "100 is In Range 51-100\n",
      "150 is In Range 101-150\n",
      "101 is In Range 101-150\n",
      "149 is In Range 101-150\n",
      "51 is In Range 51-100\n",
      "49 is In Range 0-50\n",
      "0 is In Range 0-50\n",
      "-1 is below 0\n"
     ]
    }
   ],
   "source": [
    "print(rangeChecker(10))\n",
    "print(rangeChecker(60))\n",
    "print(rangeChecker(110))\n",
    "print(rangeChecker(160))\n",
    "print(rangeChecker(200))\n",
    "print(rangeChecker(50))\n",
    "print(rangeChecker(100))\n",
    "print(rangeChecker(150))\n",
    "print(rangeChecker(101))\n",
    "print(rangeChecker(149))\n",
    "print(rangeChecker(51))\n",
    "print(rangeChecker(49))\n",
    "print(rangeChecker(0))\n",
    "print(rangeChecker(-1))"
   ]
  },
  {
   "cell_type": "markdown",
   "metadata": {},
   "source": [
    "### 20. Sum of N Numbers: Write a Python program using a for loop to calculate the sum of the first N natural numbers, where N is taken as input from the user."
   ]
  },
  {
   "cell_type": "code",
   "execution_count": 60,
   "metadata": {},
   "outputs": [],
   "source": [
    "def sumOfNnumbers(n):\n",
    "    #using for loop\n",
    "    sum = 0\n",
    "    for i in range(1,n+1):\n",
    "        sum += i\n",
    "    return sum"
   ]
  },
  {
   "cell_type": "code",
   "execution_count": 61,
   "metadata": {},
   "outputs": [
    {
     "name": "stdout",
     "output_type": "stream",
     "text": [
      "55\n"
     ]
    }
   ],
   "source": [
    "print(sumOfNnumbers(10))"
   ]
  },
  {
   "cell_type": "markdown",
   "metadata": {},
   "source": [
    "### 21. Factorial Calculator: Write a Python program using a while loop to calculate the factorial of a given number N."
   ]
  },
  {
   "cell_type": "code",
   "execution_count": 62,
   "metadata": {},
   "outputs": [],
   "source": [
    "def factorial(n):\n",
    "    if n == 0:\n",
    "        return 1\n",
    "    return n * factorial(n-1)"
   ]
  },
  {
   "cell_type": "code",
   "execution_count": 63,
   "metadata": {},
   "outputs": [
    {
     "name": "stdout",
     "output_type": "stream",
     "text": [
      "120\n",
      "1\n"
     ]
    }
   ],
   "source": [
    "print(factorial(5))\n",
    "print(factorial(0))"
   ]
  },
  {
   "cell_type": "markdown",
   "metadata": {},
   "source": [
    "### 22. Table of a Number: Write a Python program using a for loop to print the multiplication table of a given number N."
   ]
  },
  {
   "cell_type": "code",
   "execution_count": 64,
   "metadata": {},
   "outputs": [],
   "source": [
    "def multiplicationTable(n):\n",
    "    for i in range(1,11):\n",
    "        print(\"{} x {} = {}\".format(n,i,n*i))"
   ]
  },
  {
   "cell_type": "code",
   "execution_count": 65,
   "metadata": {},
   "outputs": [
    {
     "name": "stdout",
     "output_type": "stream",
     "text": [
      "5 x 1 = 5\n",
      "5 x 2 = 10\n",
      "5 x 3 = 15\n",
      "5 x 4 = 20\n",
      "5 x 5 = 25\n",
      "5 x 6 = 30\n",
      "5 x 7 = 35\n",
      "5 x 8 = 40\n",
      "5 x 9 = 45\n",
      "5 x 10 = 50\n",
      "None\n"
     ]
    }
   ],
   "source": [
    "print(multiplicationTable(5))"
   ]
  },
  {
   "cell_type": "markdown",
   "metadata": {},
   "source": [
    "### 23. Count Digits in a Number: Write a Python program using a while loop to count the number of digits in a given integer N."
   ]
  },
  {
   "cell_type": "code",
   "execution_count": 66,
   "metadata": {},
   "outputs": [],
   "source": [
    "def digitCounter(n):\n",
    "    count = 0\n",
    "    while n > 0:\n",
    "        count += 1\n",
    "        n = n // 10\n",
    "    return count"
   ]
  },
  {
   "cell_type": "code",
   "execution_count": 67,
   "metadata": {},
   "outputs": [
    {
     "name": "stdout",
     "output_type": "stream",
     "text": [
      "5\n",
      "9\n"
     ]
    }
   ],
   "source": [
    "print(digitCounter(12345))\n",
    "print(digitCounter(123456789))"
   ]
  },
  {
   "cell_type": "markdown",
   "metadata": {},
   "source": [
    "### 24. Fibonacci Sequence: Write a Python program using a for loop to generate the Fibonacci sequence up to a given limit N."
   ]
  },
  {
   "cell_type": "code",
   "execution_count": 68,
   "metadata": {},
   "outputs": [],
   "source": [
    "def makeFibonacciSeries(n):\n",
    "    series = ''\n",
    "    a = 0\n",
    "    b = 1\n",
    "    for i in range(n):\n",
    "        series += str(a) + ' '\n",
    "        a,b = b,a+b\n",
    "    return series"
   ]
  },
  {
   "cell_type": "markdown",
   "metadata": {},
   "source": []
  },
  {
   "cell_type": "code",
   "execution_count": 69,
   "metadata": {},
   "outputs": [
    {
     "name": "stdout",
     "output_type": "stream",
     "text": [
      "0 1 1 2 3 5 8 13 21 34 \n"
     ]
    }
   ],
   "source": [
    "print(makeFibonacciSeries(10))"
   ]
  },
  {
   "cell_type": "markdown",
   "metadata": {},
   "source": [
    "### 25. Sum of Even Numbers: Write a Python program using a while loop to calculate the sum of all even numbers between 1 and N, where N is taken as input from the user."
   ]
  },
  {
   "cell_type": "code",
   "execution_count": 70,
   "metadata": {},
   "outputs": [],
   "source": [
    "def sumOfEven(n):\n",
    "    sum = 0\n",
    "    i = 0\n",
    "    while(i<=n):\n",
    "        if (i&1 == 0):  #even = i&1==0\n",
    "            sum += i\n",
    "        i+=1\n",
    "    return sum"
   ]
  },
  {
   "cell_type": "code",
   "execution_count": 71,
   "metadata": {},
   "outputs": [
    {
     "name": "stdout",
     "output_type": "stream",
     "text": [
      "42\n"
     ]
    }
   ],
   "source": [
    "print(sumOfEven(12))"
   ]
  },
  {
   "cell_type": "markdown",
   "metadata": {},
   "source": [
    "### 26. Print Patterns: Write a Python program using nested for loops to print various patterns, such as a right-angled triangle, an inverted right-angled triangle, and so on."
   ]
  },
  {
   "cell_type": "code",
   "execution_count": 72,
   "metadata": {},
   "outputs": [],
   "source": [
    "def printRightTriangle(n):\n",
    "    for i in range(1,n+1):\n",
    "        print('*'*i)\n",
    "\n",
    "def printLeftTriangle(n):\n",
    "    for i in range(1,n+1):\n",
    "        print(' '*(n-i) + '*'*i)\n",
    "\n",
    "def printInvertedRightTriangle(n):\n",
    "    for i in range(n,0,-1):\n",
    "        print('*'*i)\n",
    "\n",
    "def printInvertedLeftTriangle(n):\n",
    "    for i in range(n,0,-1):\n",
    "        print(' '*(n-i) + '*'*i)\n",
    "\n",
    "def printPyramid(n):\n",
    "    for i in range(1,n+1):\n",
    "        print(' '*(n-i) + '*'*(2*i-1))\n",
    "\n",
    "def printInvertedPyramid(n):\n",
    "    for i in range(n,0,-1):\n",
    "        print(' '*(n-i) + '*'*(2*i-1))\n",
    "\n",
    "def printDiamond(n):\n",
    "    for i in range(1,n+1):\n",
    "        print(' '*(n-i) + '*'*(2*i-1))\n",
    "    for i in range(n-1,0,-1):\n",
    "        print(' '*(n-i) + '*'*(2*i-1))\n",
    "\n"
   ]
  },
  {
   "cell_type": "code",
   "execution_count": 73,
   "metadata": {},
   "outputs": [
    {
     "name": "stdout",
     "output_type": "stream",
     "text": [
      "Right Triangle\n",
      "*\n",
      "**\n",
      "***\n",
      "****\n",
      "*****\n",
      "Left Triangle\n",
      "    *\n",
      "   **\n",
      "  ***\n",
      " ****\n",
      "*****\n",
      "Inverted Right Triangle\n",
      "*****\n",
      "****\n",
      "***\n",
      "**\n",
      "*\n",
      "Inverted Left Triangle\n",
      "*****\n",
      " ****\n",
      "  ***\n",
      "   **\n",
      "    *\n"
     ]
    }
   ],
   "source": [
    "n =5\n",
    "print(\"Right Triangle\")\n",
    "printRightTriangle(n)\n",
    "print(\"Left Triangle\")\n",
    "printLeftTriangle(n)\n",
    "print(\"Inverted Right Triangle\")\n",
    "printInvertedRightTriangle(n)\n",
    "print(\"Inverted Left Triangle\")\n",
    "printInvertedLeftTriangle(n)\n"
   ]
  },
  {
   "cell_type": "code",
   "execution_count": 74,
   "metadata": {},
   "outputs": [
    {
     "name": "stdout",
     "output_type": "stream",
     "text": [
      "Pyramid\n",
      "    *\n",
      "   ***\n",
      "  *****\n",
      " *******\n",
      "*********\n",
      "Inverted Pyramid\n",
      "*********\n",
      " *******\n",
      "  *****\n",
      "   ***\n",
      "    *\n",
      "Diamond\n",
      "    *\n",
      "   ***\n",
      "  *****\n",
      " *******\n",
      "*********\n",
      " *******\n",
      "  *****\n",
      "   ***\n",
      "    *\n"
     ]
    }
   ],
   "source": [
    "print(\"Pyramid\")\n",
    "printPyramid(n)\n",
    "print(\"Inverted Pyramid\")\n",
    "printInvertedPyramid(n)\n",
    "print(\"Diamond\")\n",
    "printDiamond(n)"
   ]
  },
  {
   "cell_type": "markdown",
   "metadata": {},
   "source": [
    "### 27. Prime Number Checker: Write a Python program using a while loop to check if a given number N is prime or not."
   ]
  },
  {
   "cell_type": "code",
   "execution_count": 75,
   "metadata": {},
   "outputs": [],
   "source": [
    "def primeChecker(n):\n",
    "    if n<=1:\n",
    "        return False\n",
    "    if n<=3:\n",
    "        return True\n",
    "    if n%2==0 or n%3==0:\n",
    "        return False\n",
    "    i = 5\n",
    "    while i*i <= n:\n",
    "        if n%i==0 or n%(i+2)==0:\n",
    "            return False\n",
    "        i+=6\n",
    "    return True"
   ]
  },
  {
   "cell_type": "code",
   "execution_count": 76,
   "metadata": {},
   "outputs": [
    {
     "name": "stdout",
     "output_type": "stream",
     "text": [
      "False\n",
      "True\n",
      "False\n",
      "True\n",
      "True\n"
     ]
    }
   ],
   "source": [
    "print(primeChecker(10))\n",
    "print(primeChecker(11))\n",
    "print(primeChecker(12))\n",
    "print(primeChecker(29))\n",
    "print(primeChecker(31))"
   ]
  },
  {
   "cell_type": "markdown",
   "metadata": {},
   "source": [
    "### 28. List Manipulation: Given a list of integers, write a Python program using a for loop to find the sum, average, maximum, and minimum values in the list."
   ]
  },
  {
   "cell_type": "code",
   "execution_count": 77,
   "metadata": {},
   "outputs": [],
   "source": [
    "def extractInfoFromList(input):\n",
    "    sum = 0\n",
    "    max = input[0]\n",
    "    min = input[0]\n",
    "\n",
    "    for i in input:\n",
    "        sum += i\n",
    "        if i > max:\n",
    "            max = i\n",
    "        if i < min:\n",
    "            min = i\n",
    "    \n",
    "    avg = sum/len(input)\n",
    "    print('sum = {}, avg = {}, max = {}, min = {}'.format(sum,avg,max,min))\n"
   ]
  },
  {
   "cell_type": "code",
   "execution_count": 78,
   "metadata": {},
   "outputs": [
    {
     "name": "stdout",
     "output_type": "stream",
     "text": [
      "sum = 587, avg = 146.75, max = 432, min = 11\n"
     ]
    }
   ],
   "source": [
    "extractInfoFromList([11,23,121,432])"
   ]
  },
  {
   "cell_type": "markdown",
   "metadata": {},
   "source": [
    "### 29. Reverse String: Write a Python program using a while loop to reverse a given string."
   ]
  },
  {
   "cell_type": "code",
   "execution_count": 79,
   "metadata": {},
   "outputs": [],
   "source": [
    "def reverseUsingWhile(n):\n",
    "    n = list(n)\n",
    "    left = 0\n",
    "    right = len(n) - 1\n",
    "    while left < right:\n",
    "        n[left], n[right] = n[right], n[left]\n",
    "        left += 1\n",
    "        right -= 1\n",
    "    return ''.join(n)"
   ]
  },
  {
   "cell_type": "code",
   "execution_count": 80,
   "metadata": {},
   "outputs": [
    {
     "name": "stdout",
     "output_type": "stream",
     "text": [
      "!dlrow ,olleH\n"
     ]
    }
   ],
   "source": [
    "print(reverseUsingWhile(\"Hello, world!\"))"
   ]
  },
  {
   "cell_type": "markdown",
   "metadata": {},
   "source": [
    "### 30. Multiplication Table: Write a Python program using nested loops to print the multiplication table from 1 to 10."
   ]
  },
  {
   "cell_type": "code",
   "execution_count": 81,
   "metadata": {},
   "outputs": [],
   "source": [
    "def multiplicationTable():\n",
    "    for i in range(1,11):\n",
    "        for j in range (1,11):\n",
    "            print(f\"{i * j}\", end=\"\\t\")\n",
    "        print()\n"
   ]
  },
  {
   "cell_type": "code",
   "execution_count": 82,
   "metadata": {},
   "outputs": [
    {
     "name": "stdout",
     "output_type": "stream",
     "text": [
      "1\t2\t3\t4\t5\t6\t7\t8\t9\t10\t\n",
      "2\t4\t6\t8\t10\t12\t14\t16\t18\t20\t\n",
      "3\t6\t9\t12\t15\t18\t21\t24\t27\t30\t\n",
      "4\t8\t12\t16\t20\t24\t28\t32\t36\t40\t\n",
      "5\t10\t15\t20\t25\t30\t35\t40\t45\t50\t\n",
      "6\t12\t18\t24\t30\t36\t42\t48\t54\t60\t\n",
      "7\t14\t21\t28\t35\t42\t49\t56\t63\t70\t\n",
      "8\t16\t24\t32\t40\t48\t56\t64\t72\t80\t\n",
      "9\t18\t27\t36\t45\t54\t63\t72\t81\t90\t\n",
      "10\t20\t30\t40\t50\t60\t70\t80\t90\t100\t\n"
     ]
    }
   ],
   "source": [
    "multiplicationTable()"
   ]
  },
  {
   "cell_type": "markdown",
   "metadata": {},
   "source": [
    "### 31. Print Patterns: Write a Python program using nested loops to print the following pattern:\n",
    "\n",
    ".\n",
    "\n",
    "..\n",
    "\n",
    "...\n",
    "\n",
    "....\n",
    "\n",
    "....."
   ]
  },
  {
   "cell_type": "code",
   "execution_count": 83,
   "metadata": {},
   "outputs": [
    {
     "name": "stdout",
     "output_type": "stream",
     "text": [
      "*\n",
      "**\n",
      "***\n",
      "****\n",
      "*****\n"
     ]
    }
   ],
   "source": [
    "printRightTriangle(5)"
   ]
  },
  {
   "cell_type": "code",
   "execution_count": 84,
   "metadata": {},
   "outputs": [],
   "source": [
    "def matrixMultiplier(a,b):\n",
    "    arow = len(a)\n",
    "    bcol = len(b[0])\n",
    "    acol = len(a[0])\n",
    "\n",
    "    res = []\n",
    "    for i in range(arow):\n",
    "        res.append([0]*bcol)\n",
    "    \n",
    "    for i in range(arow):\n",
    "        for j in range(bcol):\n",
    "            for k in range(acol):\n",
    "                res[i][j] += a[i][k] * b[k][j]\n",
    "    \n",
    "    return res\n",
    "\n"
   ]
  },
  {
   "cell_type": "code",
   "execution_count": 85,
   "metadata": {},
   "outputs": [
    {
     "name": "stdout",
     "output_type": "stream",
     "text": [
      "[[58, 64], [139, 154]]\n"
     ]
    }
   ],
   "source": [
    "print(matrixMultiplier([[1,2,3],[4,5,6]],[[7,8],[9,10],[11,12]]))"
   ]
  },
  {
   "cell_type": "markdown",
   "metadata": {},
   "source": [
    "### 33. Chessboard Pattern: Write a Python program using nested loops to print a chessboard pattern (alternating “X” and “O” characters) of size 8×8"
   ]
  },
  {
   "cell_type": "code",
   "execution_count": 86,
   "metadata": {},
   "outputs": [],
   "source": [
    "def makeChessBoard():\n",
    "    for i in range(1,9):\n",
    "        for j in range(1,9):\n",
    "            # print('({},{} = {})'.format(i,j,i+j), end=' ')\n",
    "            if((i+j)&1):\n",
    "                print('O', end=' ')\n",
    "            else:\n",
    "                print('X', end=' ')\n",
    "        print()"
   ]
  },
  {
   "cell_type": "code",
   "execution_count": 87,
   "metadata": {},
   "outputs": [
    {
     "name": "stdout",
     "output_type": "stream",
     "text": [
      "X O X O X O X O \n",
      "O X O X O X O X \n",
      "X O X O X O X O \n",
      "O X O X O X O X \n",
      "X O X O X O X O \n",
      "O X O X O X O X \n",
      "X O X O X O X O \n",
      "O X O X O X O X \n"
     ]
    }
   ],
   "source": [
    "makeChessBoard()"
   ]
  },
  {
   "cell_type": "markdown",
   "metadata": {},
   "source": [
    "### 34. Number Pyramid: Write a Python program using nested loops to print a number pyramid like the following: 1 22 333 4444 55555"
   ]
  },
  {
   "cell_type": "code",
   "execution_count": 88,
   "metadata": {},
   "outputs": [],
   "source": [
    "def numberPyramid(n):\n",
    "    for i in range(1,n+1):\n",
    "        for j in range(1,i+1):\n",
    "            print(i,end=' ')\n",
    "        print()"
   ]
  },
  {
   "cell_type": "code",
   "execution_count": 89,
   "metadata": {},
   "outputs": [
    {
     "name": "stdout",
     "output_type": "stream",
     "text": [
      "1 \n",
      "2 2 \n",
      "3 3 3 \n",
      "4 4 4 4 \n",
      "5 5 5 5 5 \n"
     ]
    }
   ],
   "source": [
    "numberPyramid(5)"
   ]
  },
  {
   "cell_type": "markdown",
   "metadata": {},
   "source": [
    "### 34. List Sum: Write a Python program to find the sum of all elements in a given list of integers."
   ]
  },
  {
   "cell_type": "code",
   "execution_count": 90,
   "metadata": {},
   "outputs": [],
   "source": [
    "def sumOfList(list):\n",
    "    sum = 0\n",
    "    for el in list:\n",
    "        sum += el\n",
    "    return sum"
   ]
  },
  {
   "cell_type": "code",
   "execution_count": 91,
   "metadata": {},
   "outputs": [
    {
     "data": {
      "text/plain": [
       "10"
      ]
     },
     "execution_count": 91,
     "metadata": {},
     "output_type": "execute_result"
    }
   ],
   "source": [
    "sumOfList([1,2,3,4])"
   ]
  },
  {
   "cell_type": "markdown",
   "metadata": {},
   "source": [
    "### 35. List Average: Write a Python program to calculate the average of all elements in a given list of integers."
   ]
  },
  {
   "cell_type": "code",
   "execution_count": 92,
   "metadata": {},
   "outputs": [
    {
     "name": "stdout",
     "output_type": "stream",
     "text": [
      "3.0\n"
     ]
    }
   ],
   "source": [
    "def listAvg(list):\n",
    "    return sumOfList(list)/len(list)\n",
    "\n",
    "print(listAvg([1,2,3,4,5]))"
   ]
  },
  {
   "cell_type": "markdown",
   "metadata": {},
   "source": [
    "### 36. List Max and Min: Write a Python program to find the maximum and minimum values in a given list of integers."
   ]
  },
  {
   "cell_type": "code",
   "execution_count": 93,
   "metadata": {},
   "outputs": [
    {
     "name": "stdout",
     "output_type": "stream",
     "text": [
      "(5, 1)\n"
     ]
    }
   ],
   "source": [
    "def listMaxMin(input):\n",
    "    max = input[0]\n",
    "    min = input[0]\n",
    "    for i in input:\n",
    "        if i > max:\n",
    "            max = i\n",
    "        if i < min:\n",
    "            min = i\n",
    "    return max,min\n",
    "\n",
    "print(listMaxMin([1,2,3,4,5]))"
   ]
  },
  {
   "cell_type": "markdown",
   "metadata": {},
   "source": [
    "### 37. List Sorting: Write a Python program to sort a list of integers in ascending order."
   ]
  },
  {
   "cell_type": "code",
   "execution_count": 94,
   "metadata": {},
   "outputs": [],
   "source": [
    "# there are so many ways to sort a list\n",
    "# - bubble sort\n",
    "# - selection sort\n",
    "# - insertion sort\n",
    "# - quick sort\n",
    "# - merge sort\n",
    "# - heap sort\n",
    "# - counting sort\n",
    "# - radix sort\n",
    "# - bucket sort\n",
    "\n",
    "# i'm going to implement merge sort here, because it's the most efficient one among the ones i know\n",
    "# though quick sort is faster than merge sort in most cases, but in longer lists, merge sort is faster\n",
    "# and it's a stable sort, time complexity is O(nlogn) and space complexity is O(n)\n",
    "\n",
    "def merge_sort(arr):\n",
    "    if len(arr) <= 1:\n",
    "        return arr\n",
    "    mid = len(arr) // 2\n",
    "    leftSide = arr[:mid]\n",
    "    rightSide = arr[mid:]\n",
    "    leftSorted = merge_sort(leftSide)\n",
    "    rightSorted = merge_sort(rightSide)\n",
    "    return _merge(leftSorted,rightSorted)\n",
    "\n",
    "\n",
    "def _merge(left,right):\n",
    "    res = []\n",
    "    i = j = 0\n",
    "    while i < len(left) and j < len(right):\n",
    "        if left[i] < right[j]:\n",
    "            res.append(left[i])\n",
    "            i += 1\n",
    "        else:\n",
    "            res.append(right[j])\n",
    "            j += 1\n",
    "    \n",
    "    while i < len(left):\n",
    "        res.append(left[i])\n",
    "        i += 1\n",
    "    \n",
    "    while j < len(right):\n",
    "        res.append(right[j])\n",
    "        j += 1\n",
    "    \n",
    "    return res"
   ]
  },
  {
   "cell_type": "code",
   "execution_count": 95,
   "metadata": {},
   "outputs": [
    {
     "name": "stdout",
     "output_type": "stream",
     "text": [
      "[1, 2, 3, 4, 5, 6, 7, 8, 9]\n"
     ]
    }
   ],
   "source": [
    "print(merge_sort([1,3,2,5,4,7,6,9,8]))"
   ]
  },
  {
   "cell_type": "markdown",
   "metadata": {},
   "source": [
    "### 38. List Filtering: Given a list of integers, write a Python program to create a new list that contains only the even numbers from the original list."
   ]
  },
  {
   "cell_type": "code",
   "execution_count": 96,
   "metadata": {},
   "outputs": [
    {
     "name": "stdout",
     "output_type": "stream",
     "text": [
      "[2, 4, 6, 8, 10]\n"
     ]
    }
   ],
   "source": [
    "def filterEven(list):\n",
    "    res = []\n",
    "    for i in list:\n",
    "        if i % 2 == 0:\n",
    "            res.append(i)\n",
    "    return res\n",
    "\n",
    "print(filterEven([1,2,3,4,5,6,7,8,9,10]))"
   ]
  },
  {
   "cell_type": "markdown",
   "metadata": {},
   "source": [
    "### 39. List Reversal: Write a Python program to reverse a given list without using any built-in functions."
   ]
  },
  {
   "cell_type": "code",
   "execution_count": 97,
   "metadata": {},
   "outputs": [
    {
     "name": "stdout",
     "output_type": "stream",
     "text": [
      "[5, 4, 3, 2, 1]\n"
     ]
    }
   ],
   "source": [
    "def reverseList(input):\n",
    "    input = list(input)\n",
    "    left = 0\n",
    "    right = len(input) - 1\n",
    "    while left < right:\n",
    "        input[left], input[right] = input[right], input[left]\n",
    "        left += 1\n",
    "        right -= 1\n",
    "    return input\n",
    "\n",
    "print(reverseList([1,2,3,4,5]))"
   ]
  },
  {
   "cell_type": "markdown",
   "metadata": {},
   "source": [
    "### 40. List Manipulation: Given two lists of integers, write a Python program to create a new list that contains elements common to both lists."
   ]
  },
  {
   "cell_type": "code",
   "execution_count": 98,
   "metadata": {},
   "outputs": [
    {
     "name": "stdout",
     "output_type": "stream",
     "text": [
      "[4, 5]\n"
     ]
    }
   ],
   "source": [
    "def commonElements(list1,list2):\n",
    "    res = []\n",
    "    for i in list1:\n",
    "        if i in list2:\n",
    "            res.append(i)\n",
    "    return res\n",
    "\n",
    "print(commonElements([1,2,3,4,5],[4,5,6,7,8]))"
   ]
  },
  {
   "cell_type": "markdown",
   "metadata": {},
   "source": [
    "### 41. List Element Count: Write a Python program to count the occurrences of a specific element in a given list."
   ]
  },
  {
   "cell_type": "code",
   "execution_count": 99,
   "metadata": {},
   "outputs": [
    {
     "name": "stdout",
     "output_type": "stream",
     "text": [
      "2\n"
     ]
    }
   ],
   "source": [
    "def elementCounter(list, el):\n",
    "    count = 0\n",
    "    for i in list:\n",
    "        if i == el:\n",
    "            count += 1\n",
    "    return count\n",
    "\n",
    "print(elementCounter([1,2,3,4,5,4,3,2,1],4))"
   ]
  },
  {
   "cell_type": "markdown",
   "metadata": {},
   "source": [
    "### 42. List Duplicates Removal: Write a Python program to remove duplicates from a given list while preserving the order of the elements."
   ]
  },
  {
   "cell_type": "code",
   "execution_count": 100,
   "metadata": {},
   "outputs": [
    {
     "name": "stdout",
     "output_type": "stream",
     "text": [
      "[1, 2, 3, 4, 5]\n"
     ]
    }
   ],
   "source": [
    "def listDuplicateRemover(list):\n",
    "    res = []\n",
    "    for i in list:\n",
    "        if i not in res:\n",
    "            res.append(i)\n",
    "    return res\n",
    "\n",
    "print(listDuplicateRemover([1,2,3,4,5,4,3,2,1]))"
   ]
  },
  {
   "cell_type": "markdown",
   "metadata": {},
   "source": [
    "### 43. List Comprehension: Given a list of integers, write a Python program to create a new list that contains the squares of the elements using list comprehension."
   ]
  },
  {
   "cell_type": "code",
   "execution_count": 101,
   "metadata": {},
   "outputs": [
    {
     "name": "stdout",
     "output_type": "stream",
     "text": [
      "[1, 4, 9, 16, 25]\n"
     ]
    }
   ],
   "source": [
    "def squareList(list):\n",
    "    res = []\n",
    "    for i in list:\n",
    "        res.append(i**2)\n",
    "    return res\n",
    "\n",
    "print(squareList([1,2,3,4,5]))"
   ]
  },
  {
   "cell_type": "markdown",
   "metadata": {},
   "source": [
    "### 44. Matrix Addition: Write a Python program to add two matrices represented as nested lists."
   ]
  },
  {
   "cell_type": "code",
   "execution_count": 102,
   "metadata": {},
   "outputs": [
    {
     "name": "stdout",
     "output_type": "stream",
     "text": [
      "[[6, 8], [10, 12]]\n"
     ]
    }
   ],
   "source": [
    "def addMatrix(a,b):\n",
    "    aRow = len(a)\n",
    "    aCol = len(a[0])\n",
    "    bRow = len(b)\n",
    "    bCol = len(b[0])\n",
    "\n",
    "    if aRow != bRow or aCol != bCol:\n",
    "        return \"Same size matrix required\"\n",
    "    \n",
    "    res = []\n",
    "    for i in range(aRow):\n",
    "        res.append([0]*aCol)\n",
    "\n",
    "    for i in range(aRow):\n",
    "        for j in range(aCol):\n",
    "            res[i][j] = a[i][j] + b[i][j]\n",
    "    return res\n",
    "\n",
    "print(addMatrix([[1,2],[3,4]],[[5,6],[7,8]]))\n",
    "    "
   ]
  },
  {
   "cell_type": "markdown",
   "metadata": {},
   "source": [
    "### 45. Flatten Nested List: Write a Python program to flatten a given nested list and convert it into a single-dimensional list.\n",
    "\n",
    "\n",
    "47. Transpose Matrix: Write a Python program to transpose a given matrix represented as a nested list.\n",
    "\n",
    "48. List of Lists Concatenation: Given a list of nested lists, write a Python program to concatenate all the sublists into a single flat list."
   ]
  },
  {
   "cell_type": "code",
   "execution_count": 103,
   "metadata": {},
   "outputs": [
    {
     "name": "stdout",
     "output_type": "stream",
     "text": [
      "[1, 2, 3, 4, 5, 6, 7, 8, 9]\n"
     ]
    }
   ],
   "source": [
    "def flattenNestedList(nestedList):\n",
    "    res = []\n",
    "    for i in nestedList:\n",
    "        for j in i:\n",
    "            res.append(j)\n",
    "    return res\n",
    "\n",
    "print(flattenNestedList([[1,2,3],[4,5,6],[7,8,9]]))"
   ]
  },
  {
   "cell_type": "markdown",
   "metadata": {},
   "source": [
    "### 46. List Element Frequency: Given a nested list containing lists of integers, write a Python program to count the frequency of each element in the entire nested list."
   ]
  },
  {
   "cell_type": "code",
   "execution_count": 104,
   "metadata": {},
   "outputs": [
    {
     "name": "stdout",
     "output_type": "stream",
     "text": [
      "1 appears 1\n",
      "2 appears 1\n",
      "3 appears 1\n",
      "4 appears 1\n",
      "5 appears 1\n",
      "6 appears 1\n",
      "7 appears 2\n",
      "8 appears 2\n",
      "9 appears 2\n"
     ]
    }
   ],
   "source": [
    "def countEachElementInList(nestedList):\n",
    "    flatenList = flattenNestedList(nestedList)\n",
    "    uniqueList = listDuplicateRemover(flatenList)\n",
    "    for i in uniqueList:\n",
    "        print('{} appears {}'.format(i,elementCounter(flatenList,i)))\n",
    "\n",
    "countEachElementInList([[1,2,3],[4,5,6],[7,8,9],[7,8,9]])"
   ]
  },
  {
   "cell_type": "markdown",
   "metadata": {},
   "source": [
    "### 47. Transpose Matrix: Write a Python program to transpose a given matrix represented as a nested list."
   ]
  },
  {
   "cell_type": "code",
   "execution_count": 105,
   "metadata": {},
   "outputs": [
    {
     "name": "stdout",
     "output_type": "stream",
     "text": [
      "[[1, 4], [2, 5], [3, 6]]\n"
     ]
    }
   ],
   "source": [
    "def transposeMatrix(matrix):\n",
    "    row = len(matrix)\n",
    "    col = len(matrix[0])\n",
    "\n",
    "    res = []\n",
    "    for i in range(col):\n",
    "        res.append([0]*row)\n",
    "    \n",
    "    for i in range(row):\n",
    "        for j in range(col):\n",
    "            res[j][i] = matrix[i][j]\n",
    "    return res\n",
    "\n",
    "\n",
    "print(transposeMatrix([[1,2,3],[4,5,6]]))"
   ]
  },
  {
   "cell_type": "markdown",
   "metadata": {},
   "source": [
    "### 48. List of Lists Concatenation: Given a list of nested lists, write a Python program to concatenate all the sublists into a single flat list."
   ]
  },
  {
   "cell_type": "code",
   "execution_count": 106,
   "metadata": {},
   "outputs": [
    {
     "name": "stdout",
     "output_type": "stream",
     "text": [
      "[1, 2, 3, 4, 5, 6, 7, 8, 9]\n"
     ]
    }
   ],
   "source": [
    "def listConcatenator(nestedList):\n",
    "    res = []\n",
    "    for i in nestedList:\n",
    "        res += i\n",
    "    return res\n",
    "\n",
    "print(listConcatenator([[1,2,3],[4,5,6],[7,8,9]]))\n"
   ]
  },
  {
   "cell_type": "markdown",
   "metadata": {},
   "source": [
    "### 49. Tuple Concatenation: Write a Python program to concatenate two tuples and create a new tuple."
   ]
  },
  {
   "cell_type": "code",
   "execution_count": 107,
   "metadata": {},
   "outputs": [
    {
     "name": "stdout",
     "output_type": "stream",
     "text": [
      "(1, 2, 3, 4, 5, 6)\n"
     ]
    }
   ],
   "source": [
    "def concatenateTuples(t1,t2):\n",
    "    return t1 + t2\n",
    "\n",
    "print(concatenateTuples((1,2,3),(4,5,6)))"
   ]
  },
  {
   "cell_type": "markdown",
   "metadata": {},
   "source": [
    "### 50. Tuple Unpacking: Given a tuple with three elements (x, y, z), write a Python program to unpack the tuple and assign the values to three variables."
   ]
  },
  {
   "cell_type": "code",
   "execution_count": 108,
   "metadata": {},
   "outputs": [
    {
     "name": "stdout",
     "output_type": "stream",
     "text": [
      "a = 1, b = 2, c = 3\n"
     ]
    }
   ],
   "source": [
    "def unpackTuple(t):\n",
    "    a,b,c = t\n",
    "    print('a = {}, b = {}, c = {}'.format(a,b,c))   \n",
    "\n",
    "\n",
    "unpackTuple((1,2,3))"
   ]
  },
  {
   "cell_type": "markdown",
   "metadata": {},
   "source": [
    "### 51. Tuple Sorting: Write a Python program to sort a tuple of integers in ascending order."
   ]
  },
  {
   "cell_type": "code",
   "execution_count": 109,
   "metadata": {},
   "outputs": [
    {
     "name": "stdout",
     "output_type": "stream",
     "text": [
      "(1, 2, 3, 4, 5, 6)\n"
     ]
    }
   ],
   "source": [
    "def sortTuple(t):\n",
    "    return tuple(sorted(t))\n",
    "\n",
    "print(sortTuple((3,2,1,4,5,6)))"
   ]
  },
  {
   "cell_type": "markdown",
   "metadata": {},
   "source": [
    "### 52. Tuple Frequency Count: Given a tuple containing various elements, write a Python program to count the frequency of a specific element in the tuple."
   ]
  },
  {
   "cell_type": "code",
   "execution_count": 110,
   "metadata": {},
   "outputs": [
    {
     "name": "stdout",
     "output_type": "stream",
     "text": [
      "{1: 2, 2: 2, 3: 2, 4: 2, 5: 1}\n",
      "1 appears 2\n",
      "2 appears 2\n",
      "3 appears 2\n",
      "4 appears 2\n",
      "5 appears 1\n"
     ]
    }
   ],
   "source": [
    "def tupleFrequency(t):\n",
    "    res = {}\n",
    "    for i in t:\n",
    "        if i in res:\n",
    "            res[i] += 1\n",
    "        else:\n",
    "            res[i] = 1\n",
    "    return res\n",
    "\n",
    "print(tupleFrequency((1,2,3,4,5,4,3,2,1)))\n",
    "\n",
    "\n",
    "# we can convert the tuple to list and make almost same like `problem-46` just no need to flatten the list as it is already flat\n",
    "# so just call as like before\n",
    "\n",
    "def tupleFrequency2(t):\n",
    "    tList = list(t)\n",
    "    uniqueList = listDuplicateRemover(tList)\n",
    "    for i in uniqueList:\n",
    "        count = elementCounter(tList,i)\n",
    "        print('{} appears {}'.format(i,count))\n",
    "\n",
    "tupleFrequency2((1,2,3,4,5,4,3,2,1))\n",
    "    \n"
   ]
  },
  {
   "cell_type": "markdown",
   "metadata": {},
   "source": [
    "### 53. Tuple to List: Write a Python program to convert a tuple into a list."
   ]
  },
  {
   "cell_type": "code",
   "execution_count": 111,
   "metadata": {},
   "outputs": [
    {
     "name": "stdout",
     "output_type": "stream",
     "text": [
      "[1, 2, 3, 4, 5]\n",
      "[1, 2, 3, 4, 5]\n"
     ]
    }
   ],
   "source": [
    "def tupleToList(t):\n",
    "    res = []\n",
    "    for i in t:\n",
    "        res.append(i)\n",
    "    return res\n",
    "\n",
    "print(tupleToList((1,2,3,4,5)))\n",
    "\n",
    "# we can also use list(t) to convert tuple to list\n",
    "def tupleToList2(t):\n",
    "    return list(t)\n",
    "\n",
    "print(tupleToList2((1,2,3,4,5)))\n"
   ]
  },
  {
   "cell_type": "markdown",
   "metadata": {},
   "source": [
    "###  54. Tuple Reversal: Write a Python program to reverse a tuple without using any built-in functions."
   ]
  },
  {
   "cell_type": "code",
   "execution_count": 112,
   "metadata": {},
   "outputs": [
    {
     "name": "stdout",
     "output_type": "stream",
     "text": [
      "(5, 4, 3, 2, 1)\n"
     ]
    }
   ],
   "source": [
    "def reverseTuple(t):\n",
    "    tList = list(t)\n",
    "    # as we have already defined reverseList function in `problem-39` we can use that function\n",
    "    reversedList = reverseList(tList)\n",
    "    return tuple(reversedList)\n",
    "\n",
    "print(reverseTuple((1,2,3,4,5)))"
   ]
  },
  {
   "cell_type": "markdown",
   "metadata": {},
   "source": [
    "### 55. Tuple Slicing: Given a tuple, write a Python program to extract a slice of elements from it."
   ]
  },
  {
   "cell_type": "code",
   "execution_count": 113,
   "metadata": {},
   "outputs": [
    {
     "name": "stdout",
     "output_type": "stream",
     "text": [
      "(2, 3)\n"
     ]
    }
   ],
   "source": [
    "def sliceTuple(t, start, end):\n",
    "    return t[start:end]\n",
    "\n",
    "print(sliceTuple((1,2,3,4,5),1,3))"
   ]
  },
  {
   "cell_type": "markdown",
   "metadata": {},
   "source": [
    "### 56. Tuple Operations: Given two tuples of integers, write a Python program to perform element-wise addition, subtraction, and multiplication and create new tuples for each operation."
   ]
  },
  {
   "cell_type": "code",
   "execution_count": 114,
   "metadata": {},
   "outputs": [
    {
     "name": "stdout",
     "output_type": "stream",
     "text": [
      "Way 1\n",
      "(5, 7, 9)\n",
      "(-3, -3, -3)\n",
      "(4, 10, 18)\n",
      "way 2\n",
      "(5, 7, 9)\n",
      "(-3, -3, -3)\n",
      "(4, 10, 18)\n",
      "way 3\n",
      "(5, 7, 9)\n",
      "(-3, -3, -3)\n",
      "(4, 10, 18)\n",
      "way 4\n",
      "(5, 7, 9)\n",
      "(-3, -3, -3)\n",
      "(4, 10, 18)\n",
      "way 5\n",
      "(5, 7, 9)\n",
      "(-3, -3, -3)\n",
      "(4, 10, 18)\n"
     ]
    }
   ],
   "source": [
    "#way 1\n",
    "print(\"Way 1\")\n",
    "def tupleAdder(t1, t2):\n",
    "    res = ()\n",
    "    for i in range(len(t1)):\n",
    "        sum = t1[i] + t2[i]\n",
    "        res += (sum,)  \n",
    "    return res\n",
    "\n",
    "print(tupleAdder((1, 2, 3), (4, 5, 6)))\n",
    "\n",
    "def tupleSubtractor(t1, t2):\n",
    "    res = ()\n",
    "    for i in range(len(t1)):\n",
    "        diff = t1[i] - t2[i]\n",
    "        res += (diff,) \n",
    "    return res\n",
    "\n",
    "print(tupleSubtractor((1, 2, 3), (4, 5, 6)))\n",
    "\n",
    "\n",
    "def tupleMultiplier(t1, t2):\n",
    "    res = ()\n",
    "    for i in range(len(t1)):\n",
    "        product = t1[i] * t2[i]\n",
    "        res += (product,) \n",
    "    return res\n",
    "\n",
    "print(tupleMultiplier((1, 2, 3), (4, 5, 6)))\n",
    "\n",
    "\n",
    "\n",
    "\n",
    "# way 2\n",
    "# As we can see the above 3 functions are almost same, just +, - and * is changing so we can make a generic function for this\n",
    "# and pass the operator as an argument, this will reduce the code redundancy and make the code more readable\n",
    "def tupleOperator2(t1, t2, operator):\n",
    "    res = ()\n",
    "    for i in range(len(t1)):\n",
    "        if operator == '+':\n",
    "            result = t1[i] + t2[i]\n",
    "        elif operator == '-':\n",
    "            result = t1[i] - t2[i]\n",
    "        elif operator == '*':\n",
    "            result = t1[i] * t2[i]\n",
    "        res += (result,)\n",
    "    return res\n",
    "print(\"way 2\")\n",
    "print(tupleOperator2((1, 2, 3), (4, 5, 6), '+'))\n",
    "print(tupleOperator2((1, 2, 3), (4, 5, 6), '-'))\n",
    "print(tupleOperator2((1, 2, 3), (4, 5, 6), '*'))\n",
    "\n",
    "\n",
    "# way 3\n",
    "# we can also use function to make the code more concise\n",
    "# instead of passing +, - or * we can pass the function itself (aka operator)\n",
    "# we can define the operator functions and pass them as arguments\n",
    "def add(a,b):\n",
    "    return a+b\n",
    "def sub(a,b):\n",
    "    return a-b\n",
    "def mul(a,b):\n",
    "    return a*b\n",
    "\n",
    "def tupleOperator23(t1, t2, operator):\n",
    "    res = ()\n",
    "    for i in range(len(t1)):\n",
    "        result = operator(t1[i],t2[i])\n",
    "        res += (result,)\n",
    "    return res\n",
    "\n",
    "print(\"way 3\")\n",
    "print(tupleOperator23((1, 2, 3), (4, 5, 6), add))\n",
    "print(tupleOperator23((1, 2, 3), (4, 5, 6), sub))\n",
    "print(tupleOperator23((1, 2, 3), (4, 5, 6), mul))\n",
    "\n",
    "\n",
    "# way 4\n",
    "# we can also use lambda functions to make the code more concise\n",
    "\n",
    "def tupleOperator24(t1, t2, operator):\n",
    "    res = ()\n",
    "    for i in range(len(t1)):\n",
    "        result = operator(t1[i],t2[i])\n",
    "        res += (result,)\n",
    "    return res\n",
    "\n",
    "print(\"way 4\")\n",
    "# instead of defining the add, sub and mul functions we can use direct functions as arguments (we can also use lambda functions)\n",
    "print(tupleOperator24((1, 2, 3), (4, 5, 6), lambda a,b: a+b))\n",
    "print(tupleOperator24((1, 2, 3), (4, 5, 6), lambda a,b: a-b))\n",
    "print(tupleOperator24((1, 2, 3), (4, 5, 6), lambda a,b: a*b))\n",
    "\n",
    "\n",
    "\n",
    "\n",
    "# way 5\n",
    "# we can use operator module to make the code more concise\n",
    "# operator module has all the operators as functions, it is a built-in module of python\n",
    "\n",
    "import operator\n",
    "\n",
    "def tupleOperator25(t1, t2, operator):\n",
    "    res = ()\n",
    "    for i in range(len(t1)):\n",
    "        result = operator(t1[i],t2[i])\n",
    "        res += (result,)\n",
    "    return res\n",
    "\n",
    "print(\"way 5\")\n",
    "print(tupleOperator25((1, 2, 3), (4, 5, 6), operator.add))\n",
    "print(tupleOperator25((1, 2, 3), (4, 5, 6), operator.sub))\n",
    "print(tupleOperator25((1, 2, 3), (4, 5, 6), operator.mul))\n"
   ]
  },
  {
   "cell_type": "markdown",
   "metadata": {},
   "source": [
    "### 57. Tuple Membership Test: Write a Python program that takes an element as input and checks if it exists in a given tuple."
   ]
  },
  {
   "cell_type": "code",
   "execution_count": 115,
   "metadata": {},
   "outputs": [
    {
     "name": "stdout",
     "output_type": "stream",
     "text": [
      "True\n"
     ]
    }
   ],
   "source": [
    "def tupleElementChecker(t, el):\n",
    "    return el in t\n",
    "\n",
    "print(tupleElementChecker((1,2,3,4,5), 3))"
   ]
  },
  {
   "cell_type": "markdown",
   "metadata": {},
   "source": [
    "### 58. Tuple Packing: Write a Python program to pack three variables into a single tuple and print the tuple."
   ]
  },
  {
   "cell_type": "code",
   "execution_count": 116,
   "metadata": {},
   "outputs": [
    {
     "name": "stdout",
     "output_type": "stream",
     "text": [
      "(1, 2, 3)\n"
     ]
    }
   ],
   "source": [
    "def tuplePacking(a,b,c):\n",
    "    return (a,b,c)\n",
    "\n",
    "print(tuplePacking(1,2,3))"
   ]
  },
  {
   "cell_type": "markdown",
   "metadata": {},
   "source": [
    "### 59. Nested List Element Access: Given a nested list, write a Python program to access and print specific elements from it."
   ]
  },
  {
   "cell_type": "code",
   "execution_count": 117,
   "metadata": {},
   "outputs": [
    {
     "name": "stdout",
     "output_type": "stream",
     "text": [
      "1 2 3 4 5 6 7 8 9 "
     ]
    }
   ],
   "source": [
    "def nestedListElementTraverse(nestedList):\n",
    "    for i in nestedList:\n",
    "        for j in i:\n",
    "            print(j, end=' ')\n",
    "\n",
    "nestedListElementTraverse([[1,2,3],[4,5,6],[7,8,9]])"
   ]
  },
  {
   "cell_type": "markdown",
   "metadata": {},
   "source": [
    "### 60. Nested List Flattening: Write a Python program to flatten a nested list and convert it into a single-dimensional list."
   ]
  },
  {
   "cell_type": "code",
   "execution_count": 118,
   "metadata": {},
   "outputs": [
    {
     "name": "stdout",
     "output_type": "stream",
     "text": [
      "[1, 2, 3, 4, 5, 6, 7, 8, 9]\n"
     ]
    }
   ],
   "source": [
    "# we already have defined the flattenNestedList function in `problem-45` so we can use that function\n",
    "print(flattenNestedList([[1,2,3],[4,5,6],[7,8,9]]))"
   ]
  },
  {
   "cell_type": "markdown",
   "metadata": {},
   "source": [
    "### 61. Nested List Sorting: Given a nested list containing lists of integers, write a Python program to sort the sublists based on their lengths."
   ]
  },
  {
   "cell_type": "code",
   "execution_count": 119,
   "metadata": {},
   "outputs": [
    {
     "name": "stdout",
     "output_type": "stream",
     "text": [
      "[[8, 9], [1, 2, 3], [4, 5, 6, 7]]\n",
      "[[8, 9], [1, 2, 3], [4, 5, 6, 7]]\n"
     ]
    }
   ],
   "source": [
    "# I've already implement merge-sort in `problem-37`, we can use that function (by changing slightly) to sort the list\n",
    "\n",
    "# but I want to implement sorting using `bubble sort` here to show the implementation of bubble sort. this is quite inefficient sorting algorithm\n",
    "\n",
    "# as the problem is to sort the inner-lists by their length, so we need to modify the bubble sort to sort the list by their length\n",
    "def bubbleSortByLength(nestedList):\n",
    "    n = len(nestedList)\n",
    "    for i in range(n):\n",
    "        for j in range(0,n-i-1):\n",
    "            if len(nestedList[j]) > len(nestedList[j+1]):\n",
    "                nestedList[j], nestedList[j+1] = nestedList[j+1], nestedList[j] # swap the longer list with the shorter one\n",
    "    \n",
    "    return nestedList\n",
    "    \n",
    "\n",
    "print(bubbleSortByLength([[1,2,3],[4,5,6,7],[8,9]]))\n",
    "\n",
    "# this code has the worst time complexity of O(n^2) and space complexity of O(1), we can somehow improve this algorithm\n",
    "# it is called the extended bubble sort, in which we can check if the list is already sorted or not, if it is already sorted then we can break the loop\n",
    "# previously if [1,2,3,4] is the list and look it is already sorted, then we don't need to check it again and again, so we can break the loop and return the list\n",
    "# this will reduce the time complexity\n",
    "\n",
    "def bubbleSortByLength2(nestedList):\n",
    "    n = len(nestedList)\n",
    "    for i in range(n):\n",
    "        isSorted = True\n",
    "        for j in range(0,n-i-1):\n",
    "            if len(nestedList[j]) > len(nestedList[j+1]):\n",
    "                nestedList[j], nestedList[j+1] = nestedList[j+1], nestedList[j] # swap the longer list with the shorter one\n",
    "                isSorted = False\n",
    "        if isSorted:\n",
    "            break\n",
    "    \n",
    "    return nestedList\n",
    "\n",
    "print(bubbleSortByLength2([[1,2,3],[4,5,6,7],[8,9]]))\n"
   ]
  },
  {
   "cell_type": "markdown",
   "metadata": {},
   "source": [
    "### 62. List of Tuples Conversion: Given a nested list containing tuples of (x, y) coordinates, write a Python program to convert it into a list of x-coordinates and a list of y-coordinates.\n"
   ]
  },
  {
   "cell_type": "code",
   "execution_count": 120,
   "metadata": {},
   "outputs": [
    {
     "name": "stdout",
     "output_type": "stream",
     "text": [
      "x-coordinates = [1, 3, 5, 7]\n",
      "y-coordinates = [2, 4, 6, 8]\n"
     ]
    }
   ],
   "source": [
    "def listOfTuplesToList(listOfTuples):\n",
    "    xCoordinates = []\n",
    "    yCoordinates = []\n",
    "    for i in listOfTuples:\n",
    "        xCoordinates.append(i[0])\n",
    "        yCoordinates.append(i[1])\n",
    "    print('x-coordinates = {}'.format(xCoordinates))\n",
    "    print('y-coordinates = {}'.format(yCoordinates))\n",
    "\n",
    "listOfTuplesToList([(1,2),(3,4),(5,6),(7,8)])"
   ]
  },
  {
   "cell_type": "markdown",
   "metadata": {},
   "source": [
    "### 63. Matrix Transpose: Write a Python program to transpose a given matrix represented as a nested list."
   ]
  },
  {
   "cell_type": "code",
   "execution_count": 121,
   "metadata": {},
   "outputs": [
    {
     "data": {
      "text/plain": [
       "[[1, 4], [2, 5], [3, 6]]"
      ]
     },
     "execution_count": 121,
     "metadata": {},
     "output_type": "execute_result"
    }
   ],
   "source": [
    "# we've done matrix-transpose in `problem-47`, we can use that function here\n",
    "transposeMatrix([[1,2,3],[4,5,6]])"
   ]
  },
  {
   "cell_type": "markdown",
   "metadata": {},
   "source": [
    "### 64. Nested List Concatenation: Given a list of nested lists, write a Python program to concatenate all the sublists into a single flat list."
   ]
  },
  {
   "cell_type": "code",
   "execution_count": 122,
   "metadata": {},
   "outputs": [
    {
     "data": {
      "text/plain": [
       "[1, 2, 3, 4, 5, 6, 7, 8, 9]"
      ]
     },
     "execution_count": 122,
     "metadata": {},
     "output_type": "execute_result"
    }
   ],
   "source": [
    "# we've already implemented nested-list-concatenation in `problem-48`, we can use that function here\n",
    "listConcatenator([[1,2,3],[4,5,6],[7,8,9]])"
   ]
  },
  {
   "cell_type": "markdown",
   "metadata": {},
   "source": [
    "### 65. Count Even Numbers: Write a Python program to count the number of even numbers in a nested list."
   ]
  },
  {
   "cell_type": "code",
   "execution_count": 123,
   "metadata": {},
   "outputs": [
    {
     "name": "stdout",
     "output_type": "stream",
     "text": [
      "4\n",
      "4\n"
     ]
    }
   ],
   "source": [
    "def countEvenNumbers(nestedList):\n",
    "    count = 0\n",
    "    for i in nestedList:\n",
    "        for j in i:\n",
    "            if j&1 == 0:  # bitwise AND which is faster than modulo operation (j%2==0)\n",
    "                count += 1\n",
    "    return count\n",
    "\n",
    "print(countEvenNumbers([[1,2,3],[4,5,6],[7,8,9]]))\n",
    "\n",
    "\n",
    "# way 2\n",
    "# we can also flatten the list and count the even numbers [flattenNestedList function is defined in `problem-45`]\n",
    "def countEvenNumbers2(nestedList):\n",
    "    flatenList = flattenNestedList(nestedList)\n",
    "    count = 0\n",
    "    for i in flatenList:\n",
    "        if i&1 == 0:\n",
    "            count += 1\n",
    "    return count\n",
    "\n",
    "print(countEvenNumbers2([[1,2,3],[4,5,6],[7,8,9]]))"
   ]
  },
  {
   "cell_type": "markdown",
   "metadata": {},
   "source": [
    "### 66. Maximum Element in Nested List: Write a Python program to find the maximum element in a nested list of integers."
   ]
  },
  {
   "cell_type": "code",
   "execution_count": 124,
   "metadata": {},
   "outputs": [
    {
     "name": "stdout",
     "output_type": "stream",
     "text": [
      "9\n",
      "9\n",
      "9\n"
     ]
    }
   ],
   "source": [
    "\n",
    "# way 1 \n",
    "# we can traverse the whole nested list and find the max element\n",
    "def maxElementInList(nestedList):\n",
    "    max = nestedList[0][0]\n",
    "    for i in nestedList:\n",
    "        for j in i:\n",
    "            if j > max:\n",
    "                max = j\n",
    "    return max\n",
    "\n",
    "print(maxElementInList([[1,2,3],[4,5,6],[7,8,9]]))\n",
    "\n",
    "\n",
    "# way 2\n",
    "# we can use the flattenNestedList function to flatten the list and then find the max element\n",
    "# as we have already defined the flattenNestedList function in `problem-45` we can use that function\n",
    "def maxElementInList2(nestedList):\n",
    "    flatList = flattenNestedList(nestedList)\n",
    "    max = flatList[0]\n",
    "    for i in flatList:\n",
    "        if i > max:\n",
    "            max = i\n",
    "    return max\n",
    "\n",
    "print(maxElementInList2([[1,2,3],[4,5,6],[7,8,9]]))\n",
    "\n",
    "\n",
    "# way 3\n",
    "# as the max function is built-in function of python, we can use that function to find the max element\n",
    "def maxElementInList3(nestedList):\n",
    "    flatList = flattenNestedList(nestedList)\n",
    "    return max(flatList)\n",
    "\n",
    "print(maxElementInList3([[1,2,3],[4,5,6],[7,8,9]]))\n",
    "\n"
   ]
  },
  {
   "cell_type": "markdown",
   "metadata": {},
   "source": [
    "### 67. Diagonal Sum of Matrix: Given a square matrix represented as a nested list, write a Python program to calculate the sum of the elements in the main diagonal."
   ]
  },
  {
   "cell_type": "code",
   "execution_count": 125,
   "metadata": {},
   "outputs": [
    {
     "name": "stdout",
     "output_type": "stream",
     "text": [
      "4\n"
     ]
    }
   ],
   "source": [
    "# matrix main-diagonal is \n",
    "# 1 0 0\n",
    "# 0 1 0\n",
    "# 0 0 1\n",
    "# so the main-diagonal elements are [1,1,1]\n",
    "# we can see that the main-diagonal elements are at the index [0][0], [1][1], [2][2] and so on\n",
    "# so we can iterate over the matrix and add the elements at the index [i][i] to get the main-diagonal sum\n",
    "\n",
    "def mainDiagonalSum(matrix):\n",
    "    sum = 0\n",
    "    for i in range(len(matrix)):\n",
    "        sum += matrix[i][i]\n",
    "    return sum\n",
    "\n",
    "print(mainDiagonalSum([[1,0,0],[0,2,0],[0,0,1]]))"
   ]
  },
  {
   "cell_type": "markdown",
   "metadata": {},
   "source": [
    "### 68. Nested List Element Search: Write a Python program to search for a specific element in a nested list and return its position (row and column indices).\n"
   ]
  },
  {
   "cell_type": "code",
   "execution_count": 126,
   "metadata": {},
   "outputs": [
    {
     "name": "stdout",
     "output_type": "stream",
     "text": [
      "(1, 1)\n"
     ]
    }
   ],
   "source": [
    "def searchElmentPositionInMatrix(matrix, el):\n",
    "    rows = len(matrix)\n",
    "    cols = len(matrix[0])\n",
    "    for i in range(rows):\n",
    "        for j in range(cols):\n",
    "            if matrix[i][j] == el:\n",
    "                return i,j\n",
    "    return \"Element not found\"\n",
    "\n",
    "print(searchElmentPositionInMatrix([[1,2,3],[4,5,6],[7,8,9]], 5))"
   ]
  },
  {
   "cell_type": "markdown",
   "metadata": {},
   "source": [
    "### 69. Duplicate Removal: Write a Python program that takes a list of elements as input and creates a new set containing only the unique elements from the list."
   ]
  },
  {
   "cell_type": "code",
   "execution_count": 127,
   "metadata": {},
   "outputs": [
    {
     "name": "stdout",
     "output_type": "stream",
     "text": [
      "[1, 2, 3, 4, 5]\n",
      "[1, 2, 3, 4, 5]\n"
     ]
    }
   ],
   "source": [
    "# we can use the `removeDuplicate` function defined in `problem-42` to remove the duplicates from the list\n",
    "print(listDuplicateRemover([1,2,3,4,5,4,3,2,1]))\n",
    "\n",
    "# way 2\n",
    "# we can also use the set to remove the duplicates from\n",
    "def listDuplicateRemover2(input):\n",
    "    return list(set(input))\n",
    "print(listDuplicateRemover2([1,2,3,4,5,4,3,2,1]))"
   ]
  },
  {
   "cell_type": "markdown",
   "metadata": {},
   "source": [
    "### 70. Set Intersection: Given two sets A and B, write a Python program to find their intersection and print the common elements.\n"
   ]
  },
  {
   "cell_type": "code",
   "execution_count": 128,
   "metadata": {},
   "outputs": [
    {
     "name": "stdout",
     "output_type": "stream",
     "text": [
      "[4, 5]\n"
     ]
    }
   ],
   "source": [
    "def setIntersection(list1,list2):\n",
    "    return list(set(list1) & set(list2))\n",
    "\n",
    "print(setIntersection([1,2,3,4,5],[4,5,6,7,8]))"
   ]
  },
  {
   "cell_type": "markdown",
   "metadata": {},
   "source": [
    "### 71. Set Union: Given two sets A and B, write a Python program to find their union and print all the distinct elements from both sets."
   ]
  },
  {
   "cell_type": "code",
   "execution_count": 129,
   "metadata": {},
   "outputs": [
    {
     "name": "stdout",
     "output_type": "stream",
     "text": [
      "[1, 2, 3, 4, 5, 6, 7, 8]\n"
     ]
    }
   ],
   "source": [
    "def setUnion(list1,list2):\n",
    "    return list(set(list1) | set(list2))\n",
    "\n",
    "print(setUnion([1,2,3,4,5],[4,5,6,7,8]))"
   ]
  },
  {
   "cell_type": "markdown",
   "metadata": {},
   "source": [
    "### 72. Set Difference: Given two sets A and B, write a Python program to find the difference between set A and set B (i.e., elements present in A but not in B) and print the result."
   ]
  },
  {
   "cell_type": "code",
   "execution_count": 130,
   "metadata": {},
   "outputs": [
    {
     "name": "stdout",
     "output_type": "stream",
     "text": [
      "[1, 2, 3]\n",
      "[8, 6, 7]\n"
     ]
    }
   ],
   "source": [
    "def setDifference(list1,list2):\n",
    "    return list(set(list1) - set(list2))\n",
    "\n",
    "print(setDifference([1,2,3,4,5],[4,5,6,7,8])) # [1,2,3] as it removes the common elements from the first list\n",
    "print(setDifference([4,5,6,7,8],[1,2,3,4,5])) # [6,7,8] as it removes the common elements from the first list"
   ]
  },
  {
   "cell_type": "markdown",
   "metadata": {},
   "source": [
    "### 73. Set Symmetric Difference: Given two sets A and B, write a Python program to find the symmetric difference between the two sets (i.e., elements that are present in either set A or set B, but not in both) and print the result.\n"
   ]
  },
  {
   "cell_type": "code",
   "execution_count": 131,
   "metadata": {},
   "outputs": [
    {
     "name": "stdout",
     "output_type": "stream",
     "text": [
      "[1, 2, 3, 6, 7, 8]\n"
     ]
    }
   ],
   "source": [
    "def setSymmetricDifference(list1,list2):\n",
    "    return list(set(list1) ^ set(list2))\n",
    "\n",
    "print(setSymmetricDifference([1,2,3,4,5],[4,5,6,7,8])) # [1,2,3,6,7,8] as it removes the common elements from both the lists"
   ]
  },
  {
   "cell_type": "markdown",
   "metadata": {},
   "source": [
    "### 74. Set Operations: Given three sets A, B, and C, write a Python program to find and print the intersection of A and B, the union of B and C, and the difference between C and A."
   ]
  },
  {
   "cell_type": "code",
   "execution_count": 132,
   "metadata": {},
   "outputs": [
    {
     "name": "stdout",
     "output_type": "stream",
     "text": [
      "A intersection B = [4, 5]\n",
      "B union C = [4, 5, 6, 7, 8, 9, 10, 11]\n",
      "C difference A = [7, 8, 9, 10, 11]\n"
     ]
    }
   ],
   "source": [
    "# we can use our immediate functions that we've solved in 70, 71, 72\n",
    "def setOperation(setA,setB,setC):\n",
    "    abIntersect = setIntersection(setA,setB)\n",
    "    print(\"A intersection B = {}\".format(abIntersect))\n",
    "    bcUnion = setUnion(setB,setC)\n",
    "    print(\"B union C = {}\".format(bcUnion))\n",
    "    caDifference = setDifference(setC,setA)\n",
    "    print(\"C difference A = {}\".format(caDifference))\n",
    "\n",
    "setOperation({1,2,3,4,5},{4,5,6,7,8},{7,8,9,10,11})\n"
   ]
  },
  {
   "cell_type": "markdown",
   "metadata": {},
   "source": [
    "### 75. Set Subset Check: Given two sets A and B, write a Python program to check if set A is a subset of set B and print the result."
   ]
  },
  {
   "cell_type": "code",
   "execution_count": 133,
   "metadata": {},
   "outputs": [
    {
     "name": "stdout",
     "output_type": "stream",
     "text": [
      "True\n",
      "True\n"
     ]
    }
   ],
   "source": [
    "# subset means all the elements of setA are in setB\n",
    "\n",
    "def isSubset(setA,setB):\n",
    "    for el in setA:\n",
    "        if el not in setB:\n",
    "            return False\n",
    "    return True\n",
    "\n",
    "print(isSubset({1,2,3,4,5},{1,2,3,4,5,6,7,8}))\n",
    "\n",
    "# way 2\n",
    "# we can also use the set method issubset to check if the setA is subset of setB\n",
    "# this is built-in method of python\n",
    "def isSubset2(setA,setB):\n",
    "    return setA.issubset(setB)\n",
    "\n",
    "print(isSubset2({1,2,3,4,5},{1,2,3,4,5,6,7,8}))"
   ]
  },
  {
   "cell_type": "markdown",
   "metadata": {},
   "source": [
    "### 76. Set Superset Check: Given two sets A and B, write a Python program to check if set A is a superset of set B and print the result.\n"
   ]
  },
  {
   "cell_type": "code",
   "execution_count": 134,
   "metadata": {},
   "outputs": [
    {
     "name": "stdout",
     "output_type": "stream",
     "text": [
      "False\n",
      "True\n",
      "False\n",
      "True\n"
     ]
    }
   ],
   "source": [
    "# superset means all the elements of setB are in setA\n",
    "\n",
    "def isSuperset(setA,setB):\n",
    "    for el in setB:\n",
    "        if el not in setA:\n",
    "            return False\n",
    "    return True\n",
    "\n",
    "print(isSuperset({1,2,3,4,5},{1,2,3,4,5,6,7,8}))\n",
    "print(isSuperset({1,2,3,4,5,6,7,8},{1,2,3,4,5}))\n",
    "\n",
    "# way 2\n",
    "# we can also use the set method issuperset to check if the setA is superset of setB\n",
    "# this is built-in method of python\n",
    "def isSuperset2(setA,setB):\n",
    "    return setA.issuperset(setB)\n",
    "\n",
    "print(isSuperset2({1,2,3,4,5},{1,2,3,4,5,6,7,8}))\n",
    "print(isSuperset2({1,2,3,4,5,6,7,8},{1,2,3,4,5}))\n"
   ]
  },
  {
   "cell_type": "markdown",
   "metadata": {},
   "source": [
    "### 77. Set Length Check: Write a Python program that takes a set as input and prints the number of elements in the set."
   ]
  },
  {
   "cell_type": "code",
   "execution_count": 135,
   "metadata": {},
   "outputs": [
    {
     "name": "stdout",
     "output_type": "stream",
     "text": [
      "10\n"
     ]
    }
   ],
   "source": [
    "def setLength(set):\n",
    "    return len(set)\n",
    "\n",
    "print(setLength({1,2,3,4,5,6,7,8,9,10}))"
   ]
  },
  {
   "cell_type": "markdown",
   "metadata": {},
   "source": [
    "### 76. Set Membership Test: Write a Python program that takes an element as input and checks if it exists in a given set. Print “Found” if the element is present and “Not Found” otherwise."
   ]
  },
  {
   "cell_type": "code",
   "execution_count": 136,
   "metadata": {},
   "outputs": [
    {
     "name": "stdout",
     "output_type": "stream",
     "text": [
      "Found\n",
      "Not Found\n"
     ]
    }
   ],
   "source": [
    "def setMembership(set, el):\n",
    "    if el in set:\n",
    "        return \"Found\"\n",
    "    else:\n",
    "        return \"Not Found\"\n",
    "    \n",
    "print(setMembership({1,2,3,4,5,6,7,8,9,10}, 5))\n",
    "print(setMembership({1,2,3,4,5,6,7,8,9,10}, 15))"
   ]
  },
  {
   "cell_type": "markdown",
   "metadata": {},
   "source": [
    "### 77. Dictionary Manipulation: Given a dictionary with student names as keys and their corresponding scores as values, write a Python program to add a new student to the dictionary and update the score of an existing student."
   ]
  },
  {
   "cell_type": "code",
   "execution_count": 137,
   "metadata": {},
   "outputs": [
    {
     "name": "stdout",
     "output_type": "stream",
     "text": [
      "{'Shadik': 85, 'Faysal': 90, 'Meshkat': 78, 'Rakib': 95}\n",
      "{'Shadik': 88, 'Faysal': 90, 'Meshkat': 78, 'Rakib': 95}\n"
     ]
    }
   ],
   "source": [
    "def upsertDictionary(dictionary, name, score):\n",
    "    dictionary[name] = score\n",
    "    return dictionary\n",
    "\n",
    "\n",
    "students = {\n",
    "    \"Shadik\": 85,\n",
    "    \"Faysal\": 90,\n",
    "    \"Meshkat\": 78\n",
    "}\n",
    "\n",
    "print(upsertDictionary(students, \"Rakib\", 95))\n",
    "print(upsertDictionary(students, \"Shadik\", 88))"
   ]
  },
  {
   "cell_type": "markdown",
   "metadata": {},
   "source": [
    "### 78. Dictionary Keys and Values: Write a Python program that takes a dictionary as input and prints all the keys and values in separate lines."
   ]
  },
  {
   "cell_type": "code",
   "execution_count": 138,
   "metadata": {},
   "outputs": [
    {
     "name": "stdout",
     "output_type": "stream",
     "text": [
      "Shadik: 88\n",
      "Faysal: 90\n",
      "Meshkat: 78\n",
      "Rakib: 95\n"
     ]
    }
   ],
   "source": [
    "def printDictionary(dictionary):\n",
    "    for key in dictionary:\n",
    "        print('{}: {}'.format(key,dictionary[key]))\n",
    "\n",
    "printDictionary(students)"
   ]
  },
  {
   "cell_type": "markdown",
   "metadata": {},
   "source": [
    "### 79. Dictionary Length: Write a Python program to calculate and print the number of key-value pairs in a given dictionary."
   ]
  },
  {
   "cell_type": "code",
   "execution_count": 139,
   "metadata": {},
   "outputs": [
    {
     "name": "stdout",
     "output_type": "stream",
     "text": [
      "4\n"
     ]
    }
   ],
   "source": [
    "def dictionaryLength(dictionary):\n",
    "    return len(dictionary)\n",
    "\n",
    "print(dictionaryLength(students))"
   ]
  },
  {
   "cell_type": "markdown",
   "metadata": {},
   "source": [
    "### 80. Dictionary Value Search: Given a dictionary of items and their prices, write a Python program to search for an item based on its price and print the item’s name."
   ]
  },
  {
   "cell_type": "code",
   "execution_count": 140,
   "metadata": {},
   "outputs": [
    {
     "name": "stdout",
     "output_type": "stream",
     "text": [
      "Banana\n"
     ]
    }
   ],
   "source": [
    "def dictionarySearchByValue(dictionary, value):\n",
    "    for key in dictionary:\n",
    "        if dictionary[key] == value:\n",
    "            return key\n",
    "    return \"Not Found\"\n",
    "\n",
    "itemPrice = {\n",
    "    \"Apple\": 5,\n",
    "    \"Banana\": 10,\n",
    "    \"Orange\": 15\n",
    "}\n",
    "\n",
    "print(dictionarySearchByValue(itemPrice, 10))"
   ]
  },
  {
   "cell_type": "markdown",
   "metadata": {},
   "source": [
    "### 81. Dictionary Merging: Given two dictionaries, write a Python program to merge them into a single dictionary and print the result."
   ]
  },
  {
   "cell_type": "code",
   "execution_count": 141,
   "metadata": {},
   "outputs": [
    {
     "name": "stdout",
     "output_type": "stream",
     "text": [
      "{'Shadik': 88, 'Faysal': 90, 'Meshkat': 78, 'Rakib': 95, 'Apple': 5, 'Banana': 10, 'Orange': 15}\n",
      "{'Shadik': 88, 'Faysal': 90, 'Meshkat': 78, 'Rakib': 95, 'Apple': 5, 'Banana': 10, 'Orange': 15}\n"
     ]
    }
   ],
   "source": [
    "def mergeDictionary(dict1, dict2):\n",
    "    res = dict1.copy()  # copy the dict1 to res so that we don't modify the original dict1\n",
    "    res.update(dict2)  # update the res with dict2\n",
    "    return res\n",
    "\n",
    "print(mergeDictionary(students, itemPrice))\n",
    "\n",
    "# way 2\n",
    "# we can also use the ** operator to merge the dictionaries\n",
    "def mergeDictionary2(dict1, dict2):\n",
    "    return {**dict1, **dict2}\n",
    "\n",
    "print(mergeDictionary2(students, itemPrice))"
   ]
  },
  {
   "cell_type": "markdown",
   "metadata": {},
   "source": [
    "### 82. Dictionary Key Removal: Given a dictionary of items and their quantities, write a Python program to remove a specific item from the dictionary based on user input."
   ]
  },
  {
   "cell_type": "code",
   "execution_count": 142,
   "metadata": {},
   "outputs": [
    {
     "name": "stdout",
     "output_type": "stream",
     "text": [
      "{'Faysal': 90, 'Meshkat': 78, 'Rakib': 95}\n"
     ]
    }
   ],
   "source": [
    "def removeElementFromDictionary(dictionary, key):\n",
    "    if key in dictionary:\n",
    "        dictionary.pop(key)\n",
    "    return dictionary\n",
    "\n",
    "print(removeElementFromDictionary(students, \"Shadik\"))\n"
   ]
  },
  {
   "cell_type": "markdown",
   "metadata": {},
   "source": [
    "### 83. Dictionary Sorting: Given a dictionary with names as keys and corresponding ages as values, write a Python program to sort the dictionary based on age in ascending order."
   ]
  },
  {
   "cell_type": "code",
   "execution_count": 143,
   "metadata": {},
   "outputs": [
    {
     "name": "stdout",
     "output_type": "stream",
     "text": [
      "{'Meshkat': 78, 'Faysal': 90, 'Rakib': 95}\n",
      "{'Rakib': 95, 'Faysal': 90, 'Meshkat': 78}\n"
     ]
    }
   ],
   "source": [
    "def dictionarySortByValue(dictionary):\n",
    "    items = dictionary.items()\n",
    "    key = lambda item: item[1] # sort by value\n",
    "    # key = lambda item: item[0] # sort by key\n",
    "    sortedItems = sorted(items, key=key)\n",
    "    return dict(sortedItems)\n",
    "\n",
    "print(dictionarySortByValue(students))\n",
    "\n",
    "\n",
    "def dictionarySortByValueDesc(dictionary):\n",
    "    items = dictionary.items()\n",
    "    key = lambda item: item[1] # sort by value\n",
    "    # key = lambda item: item[0] # sort by key\n",
    "    sortedItems = sorted(items, key=key, reverse=True)\n",
    "    return dict(sortedItems)\n",
    "print(dictionarySortByValueDesc(students))"
   ]
  },
  {
   "cell_type": "markdown",
   "metadata": {},
   "source": [
    "### 84. Dictionary Frequency Count: Write a Python program that takes a string as input and creates a dictionary containing each character as a key and its frequency as the value."
   ]
  },
  {
   "cell_type": "code",
   "execution_count": 144,
   "metadata": {},
   "outputs": [
    {
     "name": "stdout",
     "output_type": "stream",
     "text": [
      "{'h': 1, 'e': 1, 'l': 3, 'o': 2, ',': 1, ' ': 1, 'w': 1, 'r': 1, 'd': 1, '!': 1}\n"
     ]
    }
   ],
   "source": [
    "def dictionaryFrequencyCount(stringInput):\n",
    "    res = {}\n",
    "    for i in stringInput:\n",
    "        if i in res:\n",
    "            res[i] += 1\n",
    "        else:\n",
    "            res[i] = 1\n",
    "    return res\n",
    "\n",
    "print(dictionaryFrequencyCount(\"hello, world!\"))"
   ]
  },
  {
   "cell_type": "markdown",
   "metadata": {},
   "source": [
    "### 85. Dictionary Comprehension: Given a list of integers, write a Python program to create a dictionary where the keys are the elements from the list, and the values are their squares."
   ]
  },
  {
   "cell_type": "code",
   "execution_count": 145,
   "metadata": {},
   "outputs": [
    {
     "name": "stdout",
     "output_type": "stream",
     "text": [
      "{'Faysal': 8100, 'Meshkat': 6084, 'Rakib': 9025}\n"
     ]
    }
   ],
   "source": [
    "def squaredDictionary(dictionary):\n",
    "    for key in dictionary:\n",
    "        dictionary[key] = dictionary[key]**2\n",
    "    return dictionary\n",
    "\n",
    "print(squaredDictionary(students))"
   ]
  },
  {
   "cell_type": "markdown",
   "metadata": {},
   "source": [
    "### 86. Dictionary Key Check: Write a Python program that takes a key as input and checks if it exists in a given dictionary. Print “Key Found” if the key is present and “Key Not Found” otherwise."
   ]
  },
  {
   "cell_type": "code",
   "execution_count": 146,
   "metadata": {},
   "outputs": [
    {
     "name": "stdout",
     "output_type": "stream",
     "text": [
      "Not Found\n",
      "Found\n",
      "Not Found\n",
      "Found\n"
     ]
    }
   ],
   "source": [
    "def keyChecker(dictionary, key):\n",
    "    return \"Found\" if key in dictionary else \"Not Found\"\n",
    "\n",
    "print(keyChecker(students, \"Shadik\")) #we can't get because this key got removed in `problem-82`\n",
    "print(keyChecker(students, \"Rakib\"))\n",
    "\n",
    "\n",
    "# way 2\n",
    "# we can also elaborate the keyChecker function to return the value if the key is found\n",
    "def keyChecker2(dictionary, key):\n",
    "    for k in dictionary:\n",
    "        if k == key:\n",
    "            return \"Found\"\n",
    "    return \"Not Found\"\n",
    "\n",
    "print(keyChecker2(students, \"Shadik\")) #we can't get because this key got removed in `problem-82`\n",
    "print(keyChecker2(students, \"Rakib\"))"
   ]
  },
  {
   "cell_type": "markdown",
   "metadata": {},
   "source": [
    "### 87. Access Nested Dictionary: Given a nested dictionary containing student details, write a Python program to access and print specific information such as a student’s name, age, and address."
   ]
  },
  {
   "cell_type": "code",
   "execution_count": 147,
   "metadata": {},
   "outputs": [
    {
     "name": "stdout",
     "output_type": "stream",
     "text": [
      "Name: Shadik, Age: 100, Address: Dhaka\n",
      "Not Found\n"
     ]
    }
   ],
   "source": [
    "studentsUpdated = {\n",
    "    \"student1\": {\n",
    "        \"name\": \"Shadik\",\n",
    "        \"age\": 100,\n",
    "        \"address\": \"Dhaka\",\n",
    "    },\n",
    "    \"student2\": {\n",
    "        \"name\": \"Faysal\",\n",
    "        \"age\": 90,\n",
    "        \"address\": \"Khulna\",\n",
    "    },\n",
    "}\n",
    "\n",
    "def nestedDictionarySearch(dictionary, key):\n",
    "    info = dictionary[key] if key in dictionary else None\n",
    "    if info:\n",
    "        print('Name: {}, Age: {}, Address: {}'.format(info['name'],info['age'],info['address']))\n",
    "    else:\n",
    "        print(\"Not Found\")\n",
    "\n",
    "\n",
    "nestedDictionarySearch(studentsUpdated, \"student1\")\n",
    "nestedDictionarySearch(studentsUpdated, \"student3\")"
   ]
  },
  {
   "cell_type": "markdown",
   "metadata": {},
   "source": [
    "### 88. Nested Dictionary Length: Write a Python program to calculate and print the total number of key-value pairs in a nested dictionary."
   ]
  },
  {
   "cell_type": "code",
   "execution_count": 148,
   "metadata": {},
   "outputs": [
    {
     "name": "stdout",
     "output_type": "stream",
     "text": [
      "6\n"
     ]
    }
   ],
   "source": [
    "def nestedDictionaryLength(dictionary):\n",
    "    count = 0\n",
    "    for key in dictionary:\n",
    "        count += len(dictionary[key])\n",
    "    return count\n",
    "\n",
    "print(nestedDictionaryLength(studentsUpdated))"
   ]
  },
  {
   "cell_type": "markdown",
   "metadata": {},
   "source": [
    "### 89. Nested Dictionary Update: Given a nested dictionary of employee details, write a Python program to update an employee’s salary based on their employee ID."
   ]
  },
  {
   "cell_type": "code",
   "execution_count": 149,
   "metadata": {},
   "outputs": [
    {
     "name": "stdout",
     "output_type": "stream",
     "text": [
      "{'employee1': {'id': 1, 'name': 'Shadik', 'salary': 5}, 'employee2': {'id': 2, 'name': 'Faysal', 'salary': 20}, 'employee3': {'id': 3, 'name': 'Meshkat', 'salary': 15}}\n"
     ]
    }
   ],
   "source": [
    "employeeDetails = {\n",
    "    \"employee1\":{\n",
    "        \"id\": 1,\n",
    "        \"name\": \"Shadik\",\n",
    "        \"salary\": 5,\n",
    "    },\n",
    "    \"employee2\":{\n",
    "        \"id\": 2,\n",
    "        \"name\": \"Faysal\",\n",
    "        \"salary\": 10,\n",
    "    },\n",
    "    \"employee3\":{\n",
    "        \"id\": 3,\n",
    "        \"name\": \"Meshkat\",\n",
    "        \"salary\": 15,\n",
    "    }\n",
    "}\n",
    "\n",
    "def updateSalaryById(dictionary, id, salary):\n",
    "    for key in dictionary:\n",
    "        if dictionary[key]['id'] == id:\n",
    "            dictionary[key]['salary'] = salary\n",
    "    return dictionary\n",
    "\n",
    "print(updateSalaryById(employeeDetails, 2, 20))"
   ]
  },
  {
   "cell_type": "markdown",
   "metadata": {},
   "source": [
    "### 90. Nested Dictionary Sorting: Given a nested dictionary containing product details (product name, price, and quantity), write a Python program to sort the products based on their prices in ascending order.\n"
   ]
  },
  {
   "cell_type": "code",
   "execution_count": 150,
   "metadata": {},
   "outputs": [
    {
     "name": "stdout",
     "output_type": "stream",
     "text": [
      "{'product1': {'name': 'Apple', 'price': 5, 'quantity': 10}, 'product2': {'name': 'Banana', 'price': 10, 'quantity': 20}, 'product3': {'name': 'Orange', 'price': 15, 'quantity': 30}}\n"
     ]
    }
   ],
   "source": [
    "productDetails = {\n",
    "    \"product1\": {\n",
    "        \"name\": \"Apple\",\n",
    "        \"price\": 5,\n",
    "        \"quantity\": 10,\n",
    "    },\n",
    "    \"product2\": {\n",
    "        \"name\": \"Banana\",\n",
    "        \"price\": 10,\n",
    "        \"quantity\": 20,\n",
    "    },\n",
    "    \"product3\": {\n",
    "        \"name\": \"Orange\",\n",
    "        \"price\": 15,\n",
    "        \"quantity\": 30,\n",
    "    }\n",
    "}\n",
    "\n",
    "def sortProductByPrice(dictionary):\n",
    "    items = dictionary.items()\n",
    "    key = lambda item: item[1]['price']\n",
    "    sortedItems = sorted(items, key=key)\n",
    "    return dict(sortedItems)\n",
    "\n",
    "print(sortProductByPrice(productDetails))\n",
    "\n",
    "\n"
   ]
  },
  {
   "cell_type": "markdown",
   "metadata": {},
   "source": [
    "### 91. Nested Dictionary Key Search: Write a Python program that takes a key as input and searches for it in a nested dictionary. If found, print the corresponding value, otherwise, print “Key Not Found.”"
   ]
  },
  {
   "cell_type": "code",
   "execution_count": 151,
   "metadata": {},
   "outputs": [
    {
     "name": "stdout",
     "output_type": "stream",
     "text": [
      "{'name': 'Banana', 'price': 10, 'quantity': 20}\n",
      "Not Found\n"
     ]
    }
   ],
   "source": [
    "def searchProductByName(dictionary, name):\n",
    "    for key in dictionary:\n",
    "        if dictionary[key]['name'] == name:\n",
    "            return dictionary[key]\n",
    "    return \"Not Found\"\n",
    "\n",
    "print(searchProductByName(productDetails, \"Banana\"))\n",
    "print(searchProductByName(productDetails, \"Mango\"))"
   ]
  },
  {
   "cell_type": "markdown",
   "metadata": {},
   "source": [
    "### 92. Prime Number Checker: Write a Python program that takes a number as input and determines if it is a prime number or not. Use a `for` loop to check for factors. If a factor is found, `break` out of the loop."
   ]
  },
  {
   "cell_type": "code",
   "execution_count": 152,
   "metadata": {},
   "outputs": [
    {
     "name": "stdout",
     "output_type": "stream",
     "text": [
      "False\n",
      "True\n",
      "False\n",
      "True\n"
     ]
    }
   ],
   "source": [
    "# we've already solved `primeChecker` in `problem-27`, we can use that function here\n",
    "print(primeChecker(10))\n",
    "print(primeChecker(11))\n",
    "\n",
    "def primeChecker2(n):\n",
    "    if n <= 1:  \n",
    "        return False\n",
    "    if n <= 3: \n",
    "        return True\n",
    "    if n % 2 == 0 or n % 3 == 0: \n",
    "        return False\n",
    "\n",
    "    i = 5\n",
    "    is_prime = True\n",
    "    while i * i <= n:\n",
    "        if n % i == 0 or n % (i + 2) == 0:\n",
    "            is_prime = False  \n",
    "            break  \n",
    "        i += 6\n",
    "\n",
    "    return is_prime\n",
    "\n",
    "print(primeChecker2(10))\n",
    "print(primeChecker2(11))\n"
   ]
  },
  {
   "cell_type": "markdown",
   "metadata": {},
   "source": [
    "### 93. Even Number Printer: Write a Python program to print all even numbers from 1 to 20. Use a `for` loop and `continue` to skip odd numbers."
   ]
  },
  {
   "cell_type": "code",
   "execution_count": 153,
   "metadata": {},
   "outputs": [
    {
     "name": "stdout",
     "output_type": "stream",
     "text": [
      "2\n",
      "4\n",
      "6\n",
      "8\n",
      "10\n"
     ]
    }
   ],
   "source": [
    "def printEvenUsingContinue(n):\n",
    "    for i in range(1,n+1):\n",
    "        if i&1:   # bitwise AND which is faster than modulo operation (i%2==0)\n",
    "            continue\n",
    "        print(i)\n",
    "\n",
    "printEvenUsingContinue(10)"
   ]
  },
  {
   "cell_type": "markdown",
   "metadata": {},
   "source": [
    "### 94. Password Validator: Write a Python program that takes a password as input and checks if it meets the following criteria: at least 8 characters long, contains both uppercase and lowercase letters, and has at least one digit. If the password is valid, print “Password accepted.” If not, use `continue` to prompt the user to enter a valid password."
   ]
  },
  {
   "cell_type": "code",
   "execution_count": 154,
   "metadata": {},
   "outputs": [
    {
     "name": "stdout",
     "output_type": "stream",
     "text": [
      "Password accepted\n",
      "Invalid\n"
     ]
    }
   ],
   "source": [
    "def passwordValidator(password):\n",
    "    length = len(password)\n",
    "    containsUpperCase = False\n",
    "    containsLowerCase = False\n",
    "    containsDigit = False\n",
    "    for ch in password:\n",
    "        if not containsUpperCase and ch.isupper():\n",
    "            containsUpperCase = True\n",
    "            continue\n",
    "        if not containsLowerCase and ch.islower():\n",
    "            containsLowerCase = True\n",
    "            continue\n",
    "        if not containsDigit and ch.isdigit():\n",
    "            containsDigit = True\n",
    "            continue\n",
    "    condition = length >= 8 and containsUpperCase and containsLowerCase and containsDigit\n",
    "    return \"Password accepted\" if condition else \"Invalid\"\n",
    "\n",
    "print(passwordValidator(\"Shadik123\"))\n",
    "print(passwordValidator(\"shadik123\"))\n",
    "\n"
   ]
  },
  {
   "cell_type": "markdown",
   "metadata": {},
   "source": [
    "### 95. Divisible by 3 or 5: Write a Python program to print all numbers from 1 to 50 that are divisible by either 3 or 5. Use a `for` loop and `continue` to skip numbers that are not divisible by either 3 or 5."
   ]
  },
  {
   "cell_type": "code",
   "execution_count": 155,
   "metadata": {},
   "outputs": [
    {
     "name": "stdout",
     "output_type": "stream",
     "text": [
      "3 5 6 9 10 12 15 18 20 21 24 25 27 30 33 35 36 39 40 42 45 48 50 "
     ]
    }
   ],
   "source": [
    "def divisibleBy3or5():\n",
    "    for i in range (1,51):\n",
    "        if i%3==0 or i%5==0:\n",
    "            print(i, end=' ')\n",
    "        else:\n",
    "            continue\n",
    "\n",
    "divisibleBy3or5()"
   ]
  },
  {
   "cell_type": "markdown",
   "metadata": {},
   "source": [
    "### 96. Positive Number Sum: Write a Python program that takes positive numbers as input until a negative number is entered. Then, calculate and print the sum of all positive numbers entered. Use a `while` loop and `break` to exit the loop when a negative number is encountered."
   ]
  },
  {
   "cell_type": "code",
   "execution_count": 157,
   "metadata": {},
   "outputs": [
    {
     "name": "stdout",
     "output_type": "stream",
     "text": [
      "66\n"
     ]
    }
   ],
   "source": [
    "def sumOfPositiveNumbers():\n",
    "    sum = 0\n",
    "    while True:\n",
    "        n = int(input(\"Enter a number: \"))\n",
    "        if n < 0:\n",
    "            break\n",
    "        sum += n\n",
    "    return sum\n",
    "\n",
    "print(sumOfPositiveNumbers())"
   ]
  },
  {
   "cell_type": "markdown",
   "metadata": {},
   "source": [
    "### 97. Word Palindrome Checker: Write a Python program that takes a word as input and checks if it is a palindrome (reads the same forwards and backward). Use `continue` to skip checking the word if its length is less than 3 characters."
   ]
  },
  {
   "cell_type": "code",
   "execution_count": 158,
   "metadata": {},
   "outputs": [
    {
     "name": "stdout",
     "output_type": "stream",
     "text": [
      "True\n",
      "False\n"
     ]
    }
   ],
   "source": [
    "def palindromeChecker2(word):\n",
    "    i = 0\n",
    "    j = len(word) - 1\n",
    "    while i < j:\n",
    "        if(len(word) <= 3):\n",
    "            continue\n",
    "        if word[i] != word[j]:\n",
    "            return False\n",
    "        i += 1\n",
    "        j -= 1\n",
    "    return True\n",
    "\n",
    "\n",
    "print(palindromeChecker2(\"madam\"))\n",
    "print(palindromeChecker2(\"hello\"))"
   ]
  },
  {
   "cell_type": "markdown",
   "metadata": {},
   "source": [
    "### 98. Odd Number Finder: Write a Python program to find the first odd number from a list of integers. Use a `for` loop and `break` to stop the loop when the first odd number is found."
   ]
  },
  {
   "cell_type": "code",
   "execution_count": 159,
   "metadata": {},
   "outputs": [
    {
     "name": "stdout",
     "output_type": "stream",
     "text": [
      "2 4 6 8 \n",
      "stopping!! 9 is odd number\n"
     ]
    }
   ],
   "source": [
    "def oddStopper(numberList):\n",
    "    for i in numberList:\n",
    "        if i&1:\n",
    "            print('\\nstopping!! {} is odd number'.format(i))\n",
    "            break\n",
    "        print(i, end=' ')\n",
    "\n",
    "oddStopper([2,4,6,8,9,10,12])\n"
   ]
  },
  {
   "cell_type": "markdown",
   "metadata": {},
   "source": [
    "### 99. Number Guessing Game: Write a Python program that generates a random number between 1 and 100 and lets the user guess the number. Use a `while` loop, `break` when the correct number is guessed, and `continue` to keep prompting the user until they guess correctly."
   ]
  },
  {
   "cell_type": "code",
   "execution_count": 161,
   "metadata": {},
   "outputs": [
    {
     "name": "stdout",
     "output_type": "stream",
     "text": [
      "Random number is generated between 1 to 100 -> 91\n",
      "You guessed it right\n"
     ]
    }
   ],
   "source": [
    "import random\n",
    "def numberGuesser():\n",
    "    randomNumber = random.randint(1,100)\n",
    "    print(\"Random number is generated between 1 to 100 -> {}\".format(randomNumber)) # just for testing\n",
    "    while True:\n",
    "        guess = int(input(\"Enter a number: \"))\n",
    "        if guess == randomNumber:\n",
    "            print(\"You guessed it right\")\n",
    "            break\n",
    "        else :\n",
    "            continue\n",
    "\n",
    "numberGuesser()"
   ]
  },
  {
   "cell_type": "markdown",
   "metadata": {},
   "source": [
    "### 100. Vowel Counter: Write a Python program that takes a string as input and counts the number of vowels (a, e, i, o, u) in it. Use a `for` loop and `continue` to skip counting non-vowel characters."
   ]
  },
  {
   "cell_type": "code",
   "execution_count": 162,
   "metadata": {},
   "outputs": [
    {
     "name": "stdout",
     "output_type": "stream",
     "text": [
      "3\n"
     ]
    }
   ],
   "source": [
    "def vowelCounter(word):\n",
    "    count = 0\n",
    "    for ch in word:\n",
    "        if ch in 'aeiou':\n",
    "            count += 1\n",
    "        else :\n",
    "            continue\n",
    "    return count\n",
    "\n",
    "print(vowelCounter(\"hello, world!\"))\n"
   ]
  },
  {
   "cell_type": "markdown",
   "metadata": {},
   "source": [
    "### 101. Unique Characters: Write a Python program that takes a string as input and checks if it contains all unique characters (no character repeats). Use a `for` loop and `break` when a character repeats."
   ]
  },
  {
   "cell_type": "code",
   "execution_count": 163,
   "metadata": {},
   "outputs": [
    {
     "name": "stdout",
     "output_type": "stream",
     "text": [
      "False\n",
      "True\n"
     ]
    }
   ],
   "source": [
    "def uniqueCharacters(word):\n",
    "    visited = set()\n",
    "    for ch in word:\n",
    "        if ch in visited:\n",
    "            break\n",
    "        else:\n",
    "         visited.add(ch)\n",
    "    return len(visited) == len(word)\n",
    "\n",
    "print(uniqueCharacters(\"hello\"))\n",
    "print(uniqueCharacters(\"world\"))"
   ]
  },
  {
   "cell_type": "markdown",
   "metadata": {},
   "source": [
    "### 102. Factorial Calculator: Write a Python function called `factorial` that takes an integer as input and returns its factorial. Test the function with different values."
   ]
  },
  {
   "cell_type": "code",
   "execution_count": 164,
   "metadata": {},
   "outputs": [
    {
     "name": "stdout",
     "output_type": "stream",
     "text": [
      "120\n",
      "720\n",
      "5040\n",
      "1\n",
      "1\n"
     ]
    }
   ],
   "source": [
    "# we've already solved `factorial` in `problem-21`, we can use that function here\n",
    "print(factorial(5))\n",
    "print(factorial(6))\n",
    "print(factorial(7))\n",
    "print(factorial(0))\n",
    "print(factorial(1))"
   ]
  },
  {
   "cell_type": "markdown",
   "metadata": {},
   "source": [
    "### 103. Palindrome Checker: Write a Python function called `is_palindrome` that takes a string as input and returns `True` if it is a palindrome and `False` otherwise. Test the function with different words."
   ]
  },
  {
   "cell_type": "code",
   "execution_count": 165,
   "metadata": {},
   "outputs": [
    {
     "name": "stdout",
     "output_type": "stream",
     "text": [
      "True\n",
      "False\n"
     ]
    }
   ],
   "source": [
    "# we've already solved `palindromeChecker` in `problem-7`, we can use that function here\n",
    "print(isPalindrome(\"madam\"))\n",
    "print(isPalindrome(\"hello\"))"
   ]
  },
  {
   "cell_type": "markdown",
   "metadata": {},
   "source": [
    "### 104. Even or Odd Checker: Write a Python function called `even_or_odd` that takes an integer as input and returns “Even” if the number is even and “Odd” if the number is odd. Test the function with different numbers."
   ]
  },
  {
   "cell_type": "code",
   "execution_count": 166,
   "metadata": {},
   "outputs": [
    {
     "name": "stdout",
     "output_type": "stream",
     "text": [
      "Even\n",
      "Odd\n"
     ]
    }
   ],
   "source": [
    "# we've already solved `evenOddChecker` in `problem-2`, we can use that function here\n",
    "print(evenOdd(10))\n",
    "print(evenOdd(11))"
   ]
  },
  {
   "cell_type": "markdown",
   "metadata": {},
   "source": [
    "### 105. List Sum Calculator: Write a Python function called `list_sum` that takes a list of integers as input and returns the sum of all elements in the list. Test the function with different lists."
   ]
  },
  {
   "cell_type": "code",
   "execution_count": 168,
   "metadata": {},
   "outputs": [
    {
     "name": "stdout",
     "output_type": "stream",
     "text": [
      "15\n",
      "55\n"
     ]
    }
   ],
   "source": [
    "# we've already solved `sumOfList` in `problem-35`, we can use that function here\n",
    "print(sumOfList([1,2,3,4,5]))\n",
    "print(sumOfList([1,2,3,4,5,6,7,8,9,10]))"
   ]
  },
  {
   "cell_type": "markdown",
   "metadata": {},
   "source": [
    "### 106. Greatest Common Divisor (GCD) Calculator: Write a Python function called `gcd` that takes two integers as input and returns their greatest common divisor. Test the function with different pairs of numbers."
   ]
  },
  {
   "cell_type": "code",
   "execution_count": 172,
   "metadata": {},
   "outputs": [
    {
     "name": "stdout",
     "output_type": "stream",
     "text": [
      "5\n",
      "10\n",
      "1\n",
      "2\n"
     ]
    }
   ],
   "source": [
    "# gcd\n",
    "def gcd(a, b):\n",
    "    if b == 0:\n",
    "        return a\n",
    "    return gcd(b, a % b)\n",
    "\n",
    "print(gcd(10, 15))\n",
    "print(gcd(10, 20))\n",
    "print(gcd(11, 30))\n",
    "print(gcd(12, 14))"
   ]
  },
  {
   "cell_type": "markdown",
   "metadata": {},
   "source": [
    "### 107. Leap Year Checker: Write a Python function called `is_leap_year` that takes a year as input and returns `True` if it is a leap year and `False` otherwise. Test the function with different years."
   ]
  },
  {
   "cell_type": "code",
   "execution_count": 173,
   "metadata": {},
   "outputs": [
    {
     "name": "stdout",
     "output_type": "stream",
     "text": [
      "Leap Year\n",
      "Not a Leap Year\n"
     ]
    }
   ],
   "source": [
    "# we've already solved `leapYearCheck` in `problem-13`, we can use that function here\n",
    "print(leapYearCheck(2020))\n",
    "print(leapYearCheck(2021))\n"
   ]
  },
  {
   "cell_type": "markdown",
   "metadata": {},
   "source": [
    "### 108. Math Operations: Write a Python function called `math_operations` that takes three numbers and a string representing an operation (‘add’, ‘subtract’, ‘multiply’, or ‘divide’). The function should return the result of the specified operation on the three numbers. Implement the math operations as nested functions."
   ]
  },
  {
   "cell_type": "code",
   "execution_count": 178,
   "metadata": {},
   "outputs": [
    {
     "name": "stdout",
     "output_type": "stream",
     "text": [
      "15\n",
      "5\n",
      "50\n",
      "2.0\n",
      "15\n",
      "5\n",
      "50\n",
      "2.0\n"
     ]
    }
   ],
   "source": [
    "def math_operations(a,b, operation):\n",
    "    if operation == 'add':\n",
    "        return a+b\n",
    "    if operation == 'subtract':\n",
    "        return a-b\n",
    "    if operation == 'multiply':\n",
    "        return a*b\n",
    "    if operation == 'divide':\n",
    "        return a/b\n",
    "    else:\n",
    "        return None\n",
    "\n",
    "print(math_operations(10, 5, 'add'))\n",
    "print(math_operations(10, 5, 'subtract'))\n",
    "print(math_operations(10, 5, 'multiply'))\n",
    "print(math_operations(10, 5, 'divide'))\n",
    "\n",
    "\n",
    "\n",
    "# way 2\n",
    "# to remove so many if-else we can use a list of operations and a function to get the operation\n",
    "\n",
    "def math_operations2(a,b, operation):\n",
    "    operations = {\n",
    "        'add': lambda a,b: a+b,\n",
    "        'subtract': lambda a,b: a-b,\n",
    "        'multiply': lambda a,b: a*b,\n",
    "        'divide': lambda a,b: a/b\n",
    "    }\n",
    "    return operations[operation](a,b)\n",
    "\n",
    "print(math_operations2(10, 5, 'add'))\n",
    "print(math_operations2(10, 5, 'subtract'))\n",
    "print(math_operations2(10, 5, 'multiply'))\n",
    "print(math_operations2(10, 5, 'divide'))\n"
   ]
  },
  {
   "cell_type": "markdown",
   "metadata": {},
   "source": [
    "### 109. Greeting Generator: Write a Python function called `greeting_generator` that takes a name as input and returns a greeting message using nested functions. The greeting message should be customizable (e.g., “Hello, {name}! How are you today?”)."
   ]
  },
  {
   "cell_type": "code",
   "execution_count": 180,
   "metadata": {},
   "outputs": [
    {
     "name": "stdout",
     "output_type": "stream",
     "text": [
      "Hello, Shadik! How are you today?\n"
     ]
    }
   ],
   "source": [
    "def greeting_generator(name):\n",
    "    return \"Hello, \" + name + \"! How are you today?\"\n",
    "\n",
    "print(greeting_generator(\"Shadik\"))"
   ]
  },
  {
   "cell_type": "markdown",
   "metadata": {},
   "source": [
    "### 110. Temperature Converter: Write a Python function called `temperature_converter` that takes a temperature value and a string representing the scale (‘C’ for Celsius or ‘F’ for Fahrenheit) as input. The function should convert the temperature from one scale to the other using nested functions and return the converted value."
   ]
  },
  {
   "cell_type": "code",
   "execution_count": 183,
   "metadata": {},
   "outputs": [
    {
     "name": "stdout",
     "output_type": "stream",
     "text": [
      "91.4\n",
      "109.4\n"
     ]
    }
   ],
   "source": [
    "# we've alredy done in  `problem-5` so we can use that function here\n",
    "print(celciusToFahrenheit(33))\n",
    "print(celciusToFahrenheit(43))\n"
   ]
  },
  {
   "cell_type": "markdown",
   "metadata": {},
   "source": [
    "### 111. Factorial Calculation: Write a recursive Python function called `factorial` that takes a non-negative integer as input and returns its factorial."
   ]
  },
  {
   "cell_type": "code",
   "execution_count": 184,
   "metadata": {},
   "outputs": [
    {
     "name": "stdout",
     "output_type": "stream",
     "text": [
      "120\n",
      "720\n",
      "5040\n"
     ]
    }
   ],
   "source": [
    "# we've alredy done in  `problem-21` so we can use that function here\n",
    "print(factorial(5))\n",
    "print(factorial(6))\n",
    "print(factorial(7))"
   ]
  },
  {
   "cell_type": "markdown",
   "metadata": {},
   "source": [
    "### 112. Fibonacci Series: Write a recursive Python function called `Fibonacci` that takes an integer N as input and returns the Nth number in the Fibonacci series. The Fibonacci series is defined as follows: F(0) = 0, F(1) = 1, and F(n) = F(n-1) + F(n-2) for n > 1."
   ]
  },
  {
   "cell_type": "code",
   "execution_count": 188,
   "metadata": {},
   "outputs": [
    {
     "name": "stdout",
     "output_type": "stream",
     "text": [
      "13\n",
      "0 1 1 2 3 5 8 13 21 34 55 \n"
     ]
    }
   ],
   "source": [
    "# in problem-24 we've already done the fibonacci series, we can use that function here\n",
    "# but we use now recursive function to get the fibonacci series\n",
    "\n",
    "def fibonacci(n):\n",
    "    if n <= 1:\n",
    "        return n\n",
    "    return fibonacci(n-1) + fibonacci(n-2)\n",
    "\n",
    "print(fibonacci(7))\n",
    "\n",
    "\n",
    "# previously [problem-24]\n",
    "print(makeFibonacciSeries(11))    "
   ]
  },
  {
   "cell_type": "markdown",
   "metadata": {},
   "source": [
    "### 113. The sum of Digits: Write a recursive Python function called `sum_of_digits` that takes an integer as input and returns the sum of its digits."
   ]
  },
  {
   "cell_type": "code",
   "execution_count": 190,
   "metadata": {},
   "outputs": [
    {
     "name": "stdout",
     "output_type": "stream",
     "text": [
      "15\n",
      "45\n"
     ]
    }
   ],
   "source": [
    "# previously we did this but iteratively, now we do this recursively\n",
    "def sumOfDigitisRecursive(n):\n",
    "    if n == 0:\n",
    "        return 0\n",
    "    lastDigit = n % 10\n",
    "    firstDigits = n // 10\n",
    "    return lastDigit + sumOfDigitisRecursive(firstDigits)\n",
    "\n",
    "print(sumOfDigitisRecursive(12345))\n",
    "print(sumOfDigitisRecursive(123456789))"
   ]
  },
  {
   "cell_type": "markdown",
   "metadata": {},
   "source": [
    "### 114. Binary Search: Write a recursive Python function called `binary_search` that takes a sorted list and a target value as input and returns the index of the target value in the list using binary search. If the target value is not in the list, return -1."
   ]
  },
  {
   "cell_type": "code",
   "execution_count": 191,
   "metadata": {},
   "outputs": [
    {
     "name": "stdout",
     "output_type": "stream",
     "text": [
      "3\n",
      "-1\n"
     ]
    }
   ],
   "source": [
    "def binarySearchRecursive(arr, l, r, x):\n",
    "    if r >= l:\n",
    "        mid = l + (r - l) // 2\n",
    "        if arr[mid] == x:\n",
    "            return mid\n",
    "        elif arr[mid] > x:\n",
    "            return binarySearchRecursive(arr, l, mid-1, x)\n",
    "        else:\n",
    "            return binarySearchRecursive(arr, mid+1, r, x)\n",
    "    else:\n",
    "        return -1\n",
    "    \n",
    "arr = [2, 3, 4, 10, 40]\n",
    "print(binarySearchRecursive(arr, 0, len(arr)-1, 10))\n",
    "print(binarySearchRecursive(arr, 0, len(arr)-1, 11))"
   ]
  },
  {
   "cell_type": "markdown",
   "metadata": {},
   "source": [
    "### 115. Power Calculation: Write a recursive Python function called `power` that takes two positive integers, base and exponent, as input and returns the value of base raised to the exponent."
   ]
  },
  {
   "cell_type": "code",
   "execution_count": 192,
   "metadata": {},
   "outputs": [
    {
     "name": "stdout",
     "output_type": "stream",
     "text": [
      "8\n",
      "81\n"
     ]
    }
   ],
   "source": [
    "def powerRecursive(x, y):\n",
    "    if y == 0:\n",
    "        return 1\n",
    "    return x * powerRecursive(x, y-1)\n",
    "\n",
    "print(powerRecursive(2, 3))\n",
    "print(powerRecursive(3, 4))\n"
   ]
  },
  {
   "cell_type": "markdown",
   "metadata": {},
   "source": []
  }
 ],
 "metadata": {
  "kernelspec": {
   "display_name": "ml-learning-env",
   "language": "python",
   "name": "python3"
  },
  "language_info": {
   "codemirror_mode": {
    "name": "ipython",
    "version": 3
   },
   "file_extension": ".py",
   "mimetype": "text/x-python",
   "name": "python",
   "nbconvert_exporter": "python",
   "pygments_lexer": "ipython3",
   "version": "3.13.0"
  }
 },
 "nbformat": 4,
 "nbformat_minor": 2
}
