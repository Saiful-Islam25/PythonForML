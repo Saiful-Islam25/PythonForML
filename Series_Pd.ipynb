{
 "cells": [
  {
   "cell_type": "markdown",
   "id": "88c075ca",
   "metadata": {},
   "source": [
    "# Series"
   ]
  },
  {
   "cell_type": "code",
   "execution_count": 7,
   "id": "a128198f",
   "metadata": {},
   "outputs": [
    {
     "name": "stdout",
     "output_type": "stream",
     "text": [
      "a    1.0\n",
      "b    2.0\n",
      "c    3.0\n",
      "d    4.0\n",
      "e    5.0\n",
      "Name: Python, dtype: float64\n",
      "<class 'pandas.core.series.Series'>\n",
      "2.0\n"
     ]
    }
   ],
   "source": [
    "import pandas as pd\n",
    "x=[1,2,3,4,5]\n",
    "var=pd.Series(x,index=['a','b','c','d','e'],dtype=\"float\",name=\"Python\")\n",
    "\n",
    "print(var)\n",
    "print(type(var))\n",
    "print(var[1])"
   ]
  },
  {
   "cell_type": "code",
   "execution_count": 13,
   "id": "b74c7da3",
   "metadata": {},
   "outputs": [
    {
     "name": "stdout",
     "output_type": "stream",
     "text": [
      "name    [pythone, c, c++, java]\n",
      "por          [11, 1, 2, 13, 14]\n",
      "rnak               [1, 2, 3, 4]\n",
      "dtype: object\n"
     ]
    }
   ],
   "source": [
    "dic={\"name\":[\"pythone\",\"c\",\"c++\",\"java\"],\"por\":[11,1,2,13,14],\"rnak\":[1,2,3,4]}\n",
    "var2=pd.Series(dic)\n",
    "print(var2)"
   ]
  },
  {
   "cell_type": "code",
   "execution_count": 15,
   "id": "a8b23213",
   "metadata": {},
   "outputs": [
    {
     "name": "stdout",
     "output_type": "stream",
     "text": [
      "1    27.0\n",
      "2    27.0\n",
      "3    27.0\n",
      "4    27.0\n",
      "5     NaN\n",
      "6     NaN\n",
      "7     NaN\n",
      "dtype: float64\n"
     ]
    }
   ],
   "source": [
    "v1=pd.Series(12,index=[1,2,3,4,5,6,7])\n",
    "v2=pd.Series(15,index=[1,2,3,4])\n",
    "\n",
    "print(v1+v2)"
   ]
  },
  {
   "cell_type": "code",
   "execution_count": null,
   "id": "4ff3daaf",
   "metadata": {},
   "outputs": [],
   "source": []
  },
  {
   "cell_type": "code",
   "execution_count": null,
   "id": "bb75e8e5",
   "metadata": {},
   "outputs": [],
   "source": []
  }
 ],
 "metadata": {
  "kernelspec": {
   "display_name": "Python 3 (ipykernel)",
   "language": "python",
   "name": "python3"
  },
  "language_info": {
   "codemirror_mode": {
    "name": "ipython",
    "version": 3
   },
   "file_extension": ".py",
   "mimetype": "text/x-python",
   "name": "python",
   "nbconvert_exporter": "python",
   "pygments_lexer": "ipython3",
   "version": "3.11.4"
  }
 },
 "nbformat": 4,
 "nbformat_minor": 5
}
