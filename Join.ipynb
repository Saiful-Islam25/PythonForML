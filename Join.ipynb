{
 "cells": [
  {
   "cell_type": "code",
   "execution_count": 1,
   "id": "1b960d38",
   "metadata": {},
   "outputs": [
    {
     "name": "stdout",
     "output_type": "stream",
     "text": [
      "[[1 2]\n",
      " [3 4]]\n",
      "\n",
      "[[5 6]\n",
      " [7 8]]\n",
      "\n",
      "[[1 2]\n",
      " [3 4]\n",
      " [5 6]\n",
      " [7 8]]\n"
     ]
    }
   ],
   "source": [
    "import numpy as np\n",
    "var=np.array([[1,2],[3,4]])\n",
    "var1=np.array([[5,6],[7,8]])\n",
    "\n",
    "new=np.concatenate((var,var1),axis=0)\n",
    "print(var)\n",
    "print()\n",
    "print(var1)\n",
    "print()\n",
    "print(new)"
   ]
  },
  {
   "cell_type": "code",
   "execution_count": 2,
   "id": "a847fe11",
   "metadata": {},
   "outputs": [
    {
     "name": "stdout",
     "output_type": "stream",
     "text": [
      "[[1 2]\n",
      " [3 4]]\n",
      "\n",
      "[[5 6]\n",
      " [7 8]]\n",
      "\n",
      "[[1 2 5 6]\n",
      " [3 4 7 8]]\n"
     ]
    }
   ],
   "source": [
    "var=np.array([[1,2],[3,4]])\n",
    "var1=np.array([[5,6],[7,8]])\n",
    "\n",
    "new=np.concatenate((var,var1),axis=1)\n",
    "print(var)\n",
    "print()\n",
    "print(var1)\n",
    "print()\n",
    "print(new)"
   ]
  },
  {
   "cell_type": "code",
   "execution_count": 4,
   "id": "3f8aa1d7",
   "metadata": {},
   "outputs": [
    {
     "name": "stdout",
     "output_type": "stream",
     "text": [
      "[[1 2 3 4 5]\n",
      " [1 2 3 4 5]]\n"
     ]
    }
   ],
   "source": [
    "var3=np.array([1,2,3,4,5])\n",
    "var4=np.array([1,2,3,4,5])\n",
    "new_1=np.stack((var3,var4),axis=0)\n",
    "print(new_1)"
   ]
  },
  {
   "cell_type": "code",
   "execution_count": 5,
   "id": "765e38c3",
   "metadata": {},
   "outputs": [
    {
     "name": "stdout",
     "output_type": "stream",
     "text": [
      "[[1 1]\n",
      " [2 2]\n",
      " [3 3]\n",
      " [4 4]\n",
      " [5 5]]\n"
     ]
    }
   ],
   "source": [
    "var3=np.array([1,2,3,4,5])\n",
    "var4=np.array([1,2,3,4,5])\n",
    "new_1=np.stack((var3,var4),axis=1)\n",
    "print(new_1)"
   ]
  },
  {
   "cell_type": "code",
   "execution_count": 7,
   "id": "bde016eb",
   "metadata": {},
   "outputs": [
    {
     "name": "stdout",
     "output_type": "stream",
     "text": [
      "[[1 1]\n",
      " [2 2]\n",
      " [3 3]\n",
      " [4 4]\n",
      " [5 5]]\n",
      "\n",
      "[1 2 3 4 5 1 2 3 4 5]\n",
      "\n",
      "[[1 2 3 4 5]\n",
      " [1 2 3 4 5]]\n",
      "\n",
      "[[[1 1]\n",
      "  [2 2]\n",
      "  [3 3]\n",
      "  [4 4]\n",
      "  [5 5]]]\n"
     ]
    }
   ],
   "source": [
    "var3=np.array([1,2,3,4,5])\n",
    "var4=np.array([1,2,3,4,5])\n",
    "\n",
    "new_1=np.stack((var3,var4),axis=1)\n",
    "new_2=np.hstack((var3,var4))\n",
    "new_3=np.vstack((var3,var4))\n",
    "new_4=np.dstack((var3,var4))\n",
    "\n",
    "print(new_1)\n",
    "print()\n",
    "print(new_2)\n",
    "print()\n",
    "print(new_3)\n",
    "print()\n",
    "print(new_4)"
   ]
  },
  {
   "cell_type": "code",
   "execution_count": null,
   "id": "22179ba1",
   "metadata": {},
   "outputs": [],
   "source": []
  }
 ],
 "metadata": {
  "kernelspec": {
   "display_name": "Python 3 (ipykernel)",
   "language": "python",
   "name": "python3"
  },
  "language_info": {
   "codemirror_mode": {
    "name": "ipython",
    "version": 3
   },
   "file_extension": ".py",
   "mimetype": "text/x-python",
   "name": "python",
   "nbconvert_exporter": "python",
   "pygments_lexer": "ipython3",
   "version": "3.11.4"
  }
 },
 "nbformat": 4,
 "nbformat_minor": 5
}
