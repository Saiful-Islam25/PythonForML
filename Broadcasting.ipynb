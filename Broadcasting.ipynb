{
 "cells": [
  {
   "cell_type": "code",
   "execution_count": 1,
   "id": "23c9ead8",
   "metadata": {},
   "outputs": [
    {
     "name": "stdout",
     "output_type": "stream",
     "text": [
      "[ 5  7  9 11 13]\n"
     ]
    }
   ],
   "source": [
    "import numpy as np\n",
    "var1 =np.array([1,2,3,4,5])\n",
    "var2 =np.array([4,5,6,7,8])\n",
    "\n",
    "print(var1+var2)"
   ]
  },
  {
   "cell_type": "code",
   "execution_count": 6,
   "id": "01e4c921",
   "metadata": {},
   "outputs": [
    {
     "name": "stdout",
     "output_type": "stream",
     "text": [
      "(5,)\n",
      "\n",
      "[1 2 3 4 5]\n",
      "(5,)\n",
      "\n",
      "[5 6 7 8 9]\n"
     ]
    }
   ],
   "source": [
    "var1=np.array([1,2,3,4,5])\n",
    "print(var1.shape)\n",
    "print()\n",
    "print(var1)\n",
    "\n",
    "var2=np.array([5,6,7,8,9])\n",
    "print(var2.shape)\n",
    "print()\n",
    "print(var2)"
   ]
  },
  {
   "cell_type": "code",
   "execution_count": 7,
   "id": "9a0da2d1",
   "metadata": {},
   "outputs": [
    {
     "name": "stdout",
     "output_type": "stream",
     "text": [
      "(5,)\n",
      "\n",
      "[1 2 3 4 5]\n",
      "(5,)\n",
      "\n",
      "[5 6 7 8 9]\n",
      "[ 6  8 10 12 14]\n"
     ]
    }
   ],
   "source": [
    "var1=np.array([1,2,3,4,5])\n",
    "print(var1.shape)\n",
    "print()\n",
    "print(var1)\n",
    "\n",
    "var2=np.array([5,6,7,8,9])\n",
    "print(var2.shape)\n",
    "print()\n",
    "print(var2)\n",
    "\n",
    "print(var1+var2)"
   ]
  },
  {
   "cell_type": "code",
   "execution_count": null,
   "id": "a5507756",
   "metadata": {},
   "outputs": [],
   "source": []
  }
 ],
 "metadata": {
  "kernelspec": {
   "display_name": "Python 3 (ipykernel)",
   "language": "python",
   "name": "python3"
  },
  "language_info": {
   "codemirror_mode": {
    "name": "ipython",
    "version": 3
   },
   "file_extension": ".py",
   "mimetype": "text/x-python",
   "name": "python",
   "nbconvert_exporter": "python",
   "pygments_lexer": "ipython3",
   "version": "3.11.4"
  }
 },
 "nbformat": 4,
 "nbformat_minor": 5
}
