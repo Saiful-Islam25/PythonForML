{
 "cells": [
  {
   "cell_type": "markdown",
   "id": "5b6ef212",
   "metadata": {},
   "source": [
    "# Arithmetic Function"
   ]
  },
  {
   "cell_type": "code",
   "execution_count": 1,
   "id": "6b0f7173",
   "metadata": {},
   "outputs": [
    {
     "name": "stdout",
     "output_type": "stream",
     "text": [
      "Min :  1\n",
      "Max :  6\n"
     ]
    }
   ],
   "source": [
    "import numpy as np\n",
    "var =np.array([1,2,3,4,5,6])\n",
    "\n",
    "print(\"Min : \",np.min(var))\n",
    "print(\"Max : \",np.max(var))"
   ]
  },
  {
   "cell_type": "code",
   "execution_count": 2,
   "id": "1a856d97",
   "metadata": {},
   "outputs": [
    {
     "name": "stdout",
     "output_type": "stream",
     "text": [
      "Min :  1 0\n",
      "Max :  6 5\n"
     ]
    }
   ],
   "source": [
    "var =np.array([1,2,3,4,5,6])\n",
    "\n",
    "print(\"Min : \",np.min(var),np.argmin(var))\n",
    "print(\"Max : \",np.max(var),np.argmax(var))"
   ]
  },
  {
   "cell_type": "code",
   "execution_count": 5,
   "id": "8bfb3621",
   "metadata": {},
   "outputs": [
    {
     "name": "stdout",
     "output_type": "stream",
     "text": [
      "Min :  [1 2 5 4]\n"
     ]
    }
   ],
   "source": [
    "var =np.array([[1,2,9,4],[3,4,5,6]])\n",
    "\n",
    "print(\"Min : \",np.min(var,axis=0))\n"
   ]
  },
  {
   "cell_type": "code",
   "execution_count": 6,
   "id": "60d24492",
   "metadata": {},
   "outputs": [
    {
     "name": "stdout",
     "output_type": "stream",
     "text": [
      "[ 0.84147098  0.90929743  0.14112001 -0.7568025 ]\n",
      "[ 0.54030231 -0.41614684 -0.9899925  -0.65364362]\n",
      "[ 1.55740772 -2.18503986 -0.14254654  1.15782128]\n"
     ]
    }
   ],
   "source": [
    "var=np.array([1,2,3,4])\n",
    "\n",
    "print(np.sin(var))\n",
    "print(np.cos(var))\n",
    "print(np.tan(var))"
   ]
  },
  {
   "cell_type": "code",
   "execution_count": 7,
   "id": "9ba5f4a6",
   "metadata": {},
   "outputs": [
    {
     "name": "stdout",
     "output_type": "stream",
     "text": [
      "[ 0.84147098  0.90929743  0.14112001 -0.7568025 ]\n",
      "[ 0.54030231 -0.41614684 -0.9899925  -0.65364362]\n",
      "[ 1.55740772 -2.18503986 -0.14254654  1.15782128]\n",
      "[ 1  3  6 10]\n"
     ]
    }
   ],
   "source": [
    "var=np.array([1,2,3,4])\n",
    "\n",
    "print(np.sin(var))\n",
    "print(np.cos(var))\n",
    "print(np.tan(var))\n",
    "print(np.cumsum(var))"
   ]
  },
  {
   "cell_type": "code",
   "execution_count": null,
   "id": "a22f2c37",
   "metadata": {},
   "outputs": [],
   "source": []
  }
 ],
 "metadata": {
  "kernelspec": {
   "display_name": "Python 3 (ipykernel)",
   "language": "python",
   "name": "python3"
  },
  "language_info": {
   "codemirror_mode": {
    "name": "ipython",
    "version": 3
   },
   "file_extension": ".py",
   "mimetype": "text/x-python",
   "name": "python",
   "nbconvert_exporter": "python",
   "pygments_lexer": "ipython3",
   "version": "3.11.4"
  }
 },
 "nbformat": 4,
 "nbformat_minor": 5
}
