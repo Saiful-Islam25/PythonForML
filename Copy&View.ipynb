{
 "cells": [
  {
   "cell_type": "code",
   "execution_count": 2,
   "id": "afbf2f8a",
   "metadata": {},
   "outputs": [
    {
     "name": "stdout",
     "output_type": "stream",
     "text": [
      "Var :  [1 2 3 4 5]\n",
      "Copy :  [1 2 3 4 5]\n"
     ]
    }
   ],
   "source": [
    "import numpy as np\n",
    "var=np.array([1,2,3,4,5])\n",
    "\n",
    "co=var.copy()\n",
    "\n",
    "print(\"Var : \",var)\n",
    "print(\"Copy : \",co)"
   ]
  },
  {
   "cell_type": "code",
   "execution_count": 3,
   "id": "051aff05",
   "metadata": {},
   "outputs": [
    {
     "name": "stdout",
     "output_type": "stream",
     "text": [
      "Var1 :  [9 8 7 6 5]\n",
      "View :  [9 8 7 6 5]\n"
     ]
    }
   ],
   "source": [
    "var1=np.array([9,8,7,6,5])\n",
    "\n",
    "vi=var1.view()\n",
    "\n",
    "print(\"Var1 : \",var1)\n",
    "print(\"View : \",vi)"
   ]
  },
  {
   "cell_type": "code",
   "execution_count": 6,
   "id": "77a2c664",
   "metadata": {},
   "outputs": [
    {
     "name": "stdout",
     "output_type": "stream",
     "text": [
      "Var :  [ 1 25  3  4  5]\n",
      "Copy :  [1 2 3 4 5]\n"
     ]
    }
   ],
   "source": [
    "\n",
    "var=np.array([1,2,3,4,5])\n",
    "\n",
    "co=var.copy()\n",
    "\n",
    "var[1]=25\n",
    "\n",
    "print(\"Var : \",var)\n",
    "print(\"Copy : \",co)"
   ]
  },
  {
   "cell_type": "code",
   "execution_count": 5,
   "id": "c9da1294",
   "metadata": {},
   "outputs": [
    {
     "name": "stdout",
     "output_type": "stream",
     "text": [
      "Var1 :  [ 9  8 55  6  5]\n",
      "View :  [ 9  8 55  6  5]\n"
     ]
    }
   ],
   "source": [
    "var1=np.array([9,8,7,6,5])\n",
    "\n",
    "vi=var1.view()\n",
    "\n",
    "var1[2]=55\n",
    "\n",
    "print(\"Var1 : \",var1)\n",
    "print(\"View : \",vi)"
   ]
  },
  {
   "cell_type": "code",
   "execution_count": null,
   "id": "8b8d909f",
   "metadata": {},
   "outputs": [],
   "source": []
  }
 ],
 "metadata": {
  "kernelspec": {
   "display_name": "Python 3 (ipykernel)",
   "language": "python",
   "name": "python3"
  },
  "language_info": {
   "codemirror_mode": {
    "name": "ipython",
    "version": 3
   },
   "file_extension": ".py",
   "mimetype": "text/x-python",
   "name": "python",
   "nbconvert_exporter": "python",
   "pygments_lexer": "ipython3",
   "version": "3.11.4"
  }
 },
 "nbformat": 4,
 "nbformat_minor": 5
}
